{
 "cells": [
  {
   "cell_type": "code",
   "execution_count": 10,
   "metadata": {},
   "outputs": [],
   "source": [
    "import importlib\n",
    "import sys\n",
    "import time\n",
    " \n",
    "importlib.reload(sys)\n",
    "time1 = time.time()\n",
    "# print(\"初始时间为：\",time1)\n",
    " \n",
    "import os.path\n",
    "\n",
    "# pdfminer 库\n",
    "from pdfminer.pdfparser import  PDFParser,PDFDocument\n",
    "from pdfminer.pdfinterp import PDFResourceManager, PDFPageInterpreter\n",
    "from pdfminer.converter import PDFPageAggregator\n",
    "from pdfminer.layout import LTTextBoxHorizontal,LAParams\n",
    "from pdfminer.pdfinterp import PDFTextExtractionNotAllowed"
   ]
  },
  {
   "cell_type": "code",
   "execution_count": 28,
   "metadata": {},
   "outputs": [],
   "source": [
    "def parse(pdf_path, output_file):\n",
    "    '''解析PDF文本，并保存到TXT文件中'''\n",
    "    fp = open(pdf_path,'rb')\n",
    "    #用文件对象创建一个PDF文档分析器\n",
    "    parser = PDFParser(fp)\n",
    "    #创建一个PDF文档\n",
    "    doc = PDFDocument()\n",
    "    #连接分析器，与文档对象\n",
    "    parser.set_document(doc)\n",
    "    doc.set_parser(parser)\n",
    " \n",
    "    #提供初始化密码，如果没有密码，就创建一个空的字符串\n",
    "    doc.initialize()\n",
    " \n",
    "    #检测文档是否提供txt转换，不提供就忽略\n",
    "    if not doc.is_extractable:\n",
    "        raise PDFTextExtractionNotAllowed\n",
    "    else:\n",
    "        #创建PDF，资源管理器，来共享资源\n",
    "        rsrcmgr = PDFResourceManager()\n",
    "        #创建一个PDF设备对象\n",
    "        laparams = LAParams()\n",
    "        device = PDFPageAggregator(rsrcmgr,laparams=laparams)\n",
    "        #创建一个PDF解释其对象\n",
    "        interpreter = PDFPageInterpreter(rsrcmgr,device)\n",
    " \n",
    "        #循环遍历列表，每次处理一个page内容\n",
    "        # doc.get_pages() 获取page列表\n",
    "        \n",
    "        if not os.path.isfile(output_file):  # 无文件时创建\n",
    "            fd = open(output_file, mode=\"w\")\n",
    "            fd.close()\n",
    "        else:\n",
    "            fd = open(output_file, mode=\"w\")\n",
    "            fd.truncate()\n",
    "            pass\n",
    "\n",
    "        # 作为演示，我们只打印首页前3行\n",
    "        LIMIT_PAGES = 1\n",
    "        LIMIT_ROWS = 3\n",
    "        cur_page = 0\n",
    "        for page in doc.get_pages():\n",
    "            if cur_page>=LIMIT_PAGES:\n",
    "                break\n",
    "            cur_page += 1\n",
    "            interpreter.process_page(page)\n",
    "            #接受该页面的LTPage对象\n",
    "            layout = device.get_result()\n",
    "            # 这里layout是一个LTPage对象 里面存放着 这个page解析出的各种对象\n",
    "            # 一般包括LTTextBox, LTFigure, LTImage, LTTextBoxHorizontal 等等\n",
    "            # 想要获取文本就获得对象的text属性，\n",
    "            cur_row = 0\n",
    "            for x in layout:\n",
    "                if cur_row>=LIMIT_ROWS:\n",
    "                    break\n",
    "                cur_row += 1\n",
    "                if(isinstance(x,LTTextBoxHorizontal)):\n",
    "                    with open(output_file,'a') as f:\n",
    "                        results = x.get_text()\n",
    "                        print(results)\n",
    "                        f.write(results  +\"\\n\")"
   ]
  },
  {
   "cell_type": "code",
   "execution_count": 29,
   "metadata": {},
   "outputs": [
    {
     "name": "stdout",
     "output_type": "stream",
     "text": [
      "Day6.ipynb ReadMe.txt result.txt test.pdf\r\n"
     ]
    }
   ],
   "source": [
    "!ls"
   ]
  },
  {
   "cell_type": "code",
   "execution_count": 34,
   "metadata": {},
   "outputs": [
    {
     "name": "stdout",
     "output_type": "stream",
     "text": [
      "1. PDFMiner是⼀一个从PDF⽂文档中提取信息的⼯工具。与其他pdf相关的\n",
      "⼯工具不不同，它完全专注于获取和分析⽂文本数据。PDFMiner允许获取\n",
      "⻚页⾯面中⽂文本的确切位置，以及其他信息，⽐比如字体或⾏行行。它包括⼀一\n",
      "个PDF转换器器，可以将PDF⽂文件转换成其他⽂文本格式(如HTML)。\n",
      "它有⼀一个可扩展的PDF解析器器，可以⽤用于其他⽬目的⽽而不不是⽂文本分析。\n",
      "\n",
      "2. Python3安装pdfminer的⽅方式：pip install pdfminer3k\n",
      "\n",
      "3.pdfminer对⽂文本解析优化，对图⽚片解析不不那么友好。\n",
      "\n",
      "总共消耗时间为:700.1334829330444毫秒\n"
     ]
    }
   ],
   "source": [
    "if __name__ == '__main__':\n",
    "    pdf_path = 'test.pdf'\n",
    "    output_file = 'result.txt'\n",
    "    parse(pdf_path, output_file)\n",
    "    time2 = time.time()\n",
    "    print(\"总共消耗时间为:{time}毫秒\".format(time = time2-time1))"
   ]
  },
  {
   "cell_type": "code",
   "execution_count": null,
   "metadata": {},
   "outputs": [],
   "source": []
  }
 ],
 "metadata": {
  "kernelspec": {
   "display_name": "Python 3",
   "language": "python",
   "name": "python3"
  },
  "language_info": {
   "codemirror_mode": {
    "name": "ipython",
    "version": 3
   },
   "file_extension": ".py",
   "mimetype": "text/x-python",
   "name": "python",
   "nbconvert_exporter": "python",
   "pygments_lexer": "ipython3",
   "version": "3.6.8"
  }
 },
 "nbformat": 4,
 "nbformat_minor": 2
}
