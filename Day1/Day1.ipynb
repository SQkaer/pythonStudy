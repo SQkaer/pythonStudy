{
 "cells": [
  {
   "cell_type": "code",
   "execution_count": null,
   "metadata": {},
   "outputs": [],
   "source": [
    "'''this is my first python program'''\n",
    "\n",
    "import time # import a public library\n",
    "\n",
    "print(time.time()) # print the current timestamp\n",
    "\n",
    "if 10>9:\n",
    "    print(\"Hello World\") \n",
    "\n",
    "number = 1\n",
    "\n",
    "def x():\n",
    "    return 10*10\n",
    "\n",
    "def y(num):\n",
    "    return num*1000\n",
    "\n",
    "print(x())\n",
    "print(y(number))"
   ]
  }
 ],
 "metadata": {
  "kernelspec": {
   "display_name": "Python 3",
   "language": "python",
   "name": "python3"
  },
  "language_info": {
   "codemirror_mode": {
    "name": "ipython",
    "version": 3
   },
   "file_extension": ".py",
   "mimetype": "text/x-python",
   "name": "python",
   "nbconvert_exporter": "python",
   "pygments_lexer": "ipython3",
   "version": "3.6.8"
  }
 },
 "nbformat": 4,
 "nbformat_minor": 2
}
