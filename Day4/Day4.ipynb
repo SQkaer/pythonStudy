{
 "cells": [
  {
   "cell_type": "code",
   "execution_count": 1,
   "metadata": {},
   "outputs": [
    {
     "data": {
      "text/plain": [
       "' pandas Series and DataFrame '"
      ]
     },
     "execution_count": 1,
     "metadata": {},
     "output_type": "execute_result"
    }
   ],
   "source": [
    "''' pandas Series and DataFrame '''"
   ]
  },
  {
   "cell_type": "code",
   "execution_count": 2,
   "metadata": {},
   "outputs": [],
   "source": [
    "import pandas as pd"
   ]
  },
  {
   "cell_type": "code",
   "execution_count": 3,
   "metadata": {},
   "outputs": [],
   "source": [
    "obj = pd.Series([4,5,6,-7])"
   ]
  },
  {
   "cell_type": "code",
   "execution_count": 4,
   "metadata": {},
   "outputs": [
    {
     "name": "stdout",
     "output_type": "stream",
     "text": [
      "0    4\n",
      "1    5\n",
      "2    6\n",
      "3   -7\n",
      "dtype: int64\n"
     ]
    }
   ],
   "source": [
    "print(obj)"
   ]
  },
  {
   "cell_type": "code",
   "execution_count": 5,
   "metadata": {},
   "outputs": [],
   "source": [
    "obj[4]=10"
   ]
  },
  {
   "cell_type": "code",
   "execution_count": 6,
   "metadata": {},
   "outputs": [
    {
     "data": {
      "text/plain": [
       "5"
      ]
     },
     "execution_count": 6,
     "metadata": {},
     "output_type": "execute_result"
    }
   ],
   "source": [
    "len(obj)"
   ]
  },
  {
   "cell_type": "code",
   "execution_count": 7,
   "metadata": {},
   "outputs": [
    {
     "name": "stdout",
     "output_type": "stream",
     "text": [
      "Int64Index([0, 1, 2, 3, 4], dtype='int64')\n"
     ]
    }
   ],
   "source": [
    "print(obj.index)"
   ]
  },
  {
   "cell_type": "code",
   "execution_count": 8,
   "metadata": {},
   "outputs": [
    {
     "name": "stdout",
     "output_type": "stream",
     "text": [
      "[ 4  5  6 -7 10]\n"
     ]
    }
   ],
   "source": [
    "print(obj.values)"
   ]
  },
  {
   "cell_type": "code",
   "execution_count": 9,
   "metadata": {},
   "outputs": [],
   "source": [
    "obj2 = pd.Series([4, 7, -5, 3], index=['d', 'b', 'c', 'a'])"
   ]
  },
  {
   "cell_type": "code",
   "execution_count": 10,
   "metadata": {},
   "outputs": [
    {
     "name": "stdout",
     "output_type": "stream",
     "text": [
      "d    4\n",
      "b    7\n",
      "c   -5\n",
      "a    3\n",
      "dtype: int64\n"
     ]
    }
   ],
   "source": [
    "print(obj2)"
   ]
  },
  {
   "cell_type": "code",
   "execution_count": 11,
   "metadata": {},
   "outputs": [],
   "source": [
    "obj2['c'] = 6"
   ]
  },
  {
   "cell_type": "code",
   "execution_count": 12,
   "metadata": {},
   "outputs": [
    {
     "name": "stdout",
     "output_type": "stream",
     "text": [
      "d    4\n",
      "b    7\n",
      "c    6\n",
      "a    3\n",
      "dtype: int64\n"
     ]
    }
   ],
   "source": [
    "print(obj2)"
   ]
  },
  {
   "cell_type": "code",
   "execution_count": 13,
   "metadata": {},
   "outputs": [
    {
     "name": "stdout",
     "output_type": "stream",
     "text": [
      "beijing      35000\n",
      "shanghai     71000\n",
      "guangzhou    16000\n",
      "shenzhen      5000\n",
      "dtype: int64\n"
     ]
    }
   ],
   "source": [
    "sdata = {\n",
    "    'beijing': 35000,\n",
    "    'shanghai': 71000,\n",
    "    'guangzhou': 16000,\n",
    "    'shenzhen': 5000\n",
    "}\n",
    "\n",
    "obj3 = pd.Series(sdata)\n",
    "print(obj3)"
   ]
  },
  {
   "cell_type": "code",
   "execution_count": 14,
   "metadata": {},
   "outputs": [],
   "source": [
    "#----------------------DataFrame---------------------"
   ]
  },
  {
   "cell_type": "code",
   "execution_count": 15,
   "metadata": {},
   "outputs": [],
   "source": [
    "data = {'city': ['shanghai', 'shanghai', 'shanghai', 'beijing', 'beijing'],\n",
    "        'year': [2016, 2017, 2018, 2017, 2018],\n",
    "        'pop': [1.5, 1.7, 3.6, 2.4, 2.9]}\n",
    "\n",
    "frame = pd.DataFrame(data)"
   ]
  },
  {
   "cell_type": "code",
   "execution_count": 16,
   "metadata": {},
   "outputs": [
    {
     "name": "stdout",
     "output_type": "stream",
     "text": [
      "{'city': ['shanghai', 'shanghai', 'shanghai', 'beijing', 'beijing'], 'year': [2016, 2017, 2018, 2017, 2018], 'pop': [1.5, 1.7, 3.6, 2.4, 2.9]}\n"
     ]
    }
   ],
   "source": [
    "print(data)"
   ]
  },
  {
   "cell_type": "code",
   "execution_count": 17,
   "metadata": {},
   "outputs": [
    {
     "data": {
      "text/html": [
       "<div>\n",
       "<style scoped>\n",
       "    .dataframe tbody tr th:only-of-type {\n",
       "        vertical-align: middle;\n",
       "    }\n",
       "\n",
       "    .dataframe tbody tr th {\n",
       "        vertical-align: top;\n",
       "    }\n",
       "\n",
       "    .dataframe thead th {\n",
       "        text-align: right;\n",
       "    }\n",
       "</style>\n",
       "<table border=\"1\" class=\"dataframe\">\n",
       "  <thead>\n",
       "    <tr style=\"text-align: right;\">\n",
       "      <th></th>\n",
       "      <th>city</th>\n",
       "      <th>year</th>\n",
       "      <th>pop</th>\n",
       "    </tr>\n",
       "  </thead>\n",
       "  <tbody>\n",
       "    <tr>\n",
       "      <th>0</th>\n",
       "      <td>shanghai</td>\n",
       "      <td>2016</td>\n",
       "      <td>1.5</td>\n",
       "    </tr>\n",
       "    <tr>\n",
       "      <th>1</th>\n",
       "      <td>shanghai</td>\n",
       "      <td>2017</td>\n",
       "      <td>1.7</td>\n",
       "    </tr>\n",
       "    <tr>\n",
       "      <th>2</th>\n",
       "      <td>shanghai</td>\n",
       "      <td>2018</td>\n",
       "      <td>3.6</td>\n",
       "    </tr>\n",
       "    <tr>\n",
       "      <th>3</th>\n",
       "      <td>beijing</td>\n",
       "      <td>2017</td>\n",
       "      <td>2.4</td>\n",
       "    </tr>\n",
       "    <tr>\n",
       "      <th>4</th>\n",
       "      <td>beijing</td>\n",
       "      <td>2018</td>\n",
       "      <td>2.9</td>\n",
       "    </tr>\n",
       "  </tbody>\n",
       "</table>\n",
       "</div>"
      ],
      "text/plain": [
       "       city  year  pop\n",
       "0  shanghai  2016  1.5\n",
       "1  shanghai  2017  1.7\n",
       "2  shanghai  2018  3.6\n",
       "3   beijing  2017  2.4\n",
       "4   beijing  2018  2.9"
      ]
     },
     "execution_count": 17,
     "metadata": {},
     "output_type": "execute_result"
    }
   ],
   "source": [
    "frame"
   ]
  },
  {
   "cell_type": "code",
   "execution_count": 18,
   "metadata": {},
   "outputs": [],
   "source": [
    "frame2 = pd.DataFrame(data, columns=['year', 'city', 'pop'])"
   ]
  },
  {
   "cell_type": "code",
   "execution_count": 19,
   "metadata": {},
   "outputs": [
    {
     "data": {
      "text/html": [
       "<div>\n",
       "<style scoped>\n",
       "    .dataframe tbody tr th:only-of-type {\n",
       "        vertical-align: middle;\n",
       "    }\n",
       "\n",
       "    .dataframe tbody tr th {\n",
       "        vertical-align: top;\n",
       "    }\n",
       "\n",
       "    .dataframe thead th {\n",
       "        text-align: right;\n",
       "    }\n",
       "</style>\n",
       "<table border=\"1\" class=\"dataframe\">\n",
       "  <thead>\n",
       "    <tr style=\"text-align: right;\">\n",
       "      <th></th>\n",
       "      <th>year</th>\n",
       "      <th>city</th>\n",
       "      <th>pop</th>\n",
       "    </tr>\n",
       "  </thead>\n",
       "  <tbody>\n",
       "    <tr>\n",
       "      <th>0</th>\n",
       "      <td>2016</td>\n",
       "      <td>shanghai</td>\n",
       "      <td>1.5</td>\n",
       "    </tr>\n",
       "    <tr>\n",
       "      <th>1</th>\n",
       "      <td>2017</td>\n",
       "      <td>shanghai</td>\n",
       "      <td>1.7</td>\n",
       "    </tr>\n",
       "    <tr>\n",
       "      <th>2</th>\n",
       "      <td>2018</td>\n",
       "      <td>shanghai</td>\n",
       "      <td>3.6</td>\n",
       "    </tr>\n",
       "    <tr>\n",
       "      <th>3</th>\n",
       "      <td>2017</td>\n",
       "      <td>beijing</td>\n",
       "      <td>2.4</td>\n",
       "    </tr>\n",
       "    <tr>\n",
       "      <th>4</th>\n",
       "      <td>2018</td>\n",
       "      <td>beijing</td>\n",
       "      <td>2.9</td>\n",
       "    </tr>\n",
       "  </tbody>\n",
       "</table>\n",
       "</div>"
      ],
      "text/plain": [
       "   year      city  pop\n",
       "0  2016  shanghai  1.5\n",
       "1  2017  shanghai  1.7\n",
       "2  2018  shanghai  3.6\n",
       "3  2017   beijing  2.4\n",
       "4  2018   beijing  2.9"
      ]
     },
     "execution_count": 19,
     "metadata": {},
     "output_type": "execute_result"
    }
   ],
   "source": [
    "frame2"
   ]
  },
  {
   "cell_type": "code",
   "execution_count": 20,
   "metadata": {},
   "outputs": [
    {
     "data": {
      "text/plain": [
       "0    2016\n",
       "1    2017\n",
       "2    2018\n",
       "3    2017\n",
       "4    2018\n",
       "Name: year, dtype: int64"
      ]
     },
     "execution_count": 20,
     "metadata": {},
     "output_type": "execute_result"
    }
   ],
   "source": [
    "frame['year']"
   ]
  },
  {
   "cell_type": "code",
   "execution_count": 21,
   "metadata": {},
   "outputs": [
    {
     "data": {
      "text/html": [
       "<div>\n",
       "<style scoped>\n",
       "    .dataframe tbody tr th:only-of-type {\n",
       "        vertical-align: middle;\n",
       "    }\n",
       "\n",
       "    .dataframe tbody tr th {\n",
       "        vertical-align: top;\n",
       "    }\n",
       "\n",
       "    .dataframe thead th {\n",
       "        text-align: right;\n",
       "    }\n",
       "</style>\n",
       "<table border=\"1\" class=\"dataframe\">\n",
       "  <thead>\n",
       "    <tr style=\"text-align: right;\">\n",
       "      <th></th>\n",
       "      <th>city</th>\n",
       "      <th>year</th>\n",
       "      <th>pop</th>\n",
       "    </tr>\n",
       "  </thead>\n",
       "  <tbody>\n",
       "    <tr>\n",
       "      <th>1</th>\n",
       "      <td>shanghai</td>\n",
       "      <td>2017</td>\n",
       "      <td>1.7</td>\n",
       "    </tr>\n",
       "    <tr>\n",
       "      <th>2</th>\n",
       "      <td>shanghai</td>\n",
       "      <td>2018</td>\n",
       "      <td>3.6</td>\n",
       "    </tr>\n",
       "  </tbody>\n",
       "</table>\n",
       "</div>"
      ],
      "text/plain": [
       "       city  year  pop\n",
       "1  shanghai  2017  1.7\n",
       "2  shanghai  2018  3.6"
      ]
     },
     "execution_count": 21,
     "metadata": {},
     "output_type": "execute_result"
    }
   ],
   "source": [
    "frame.loc[1:2]"
   ]
  },
  {
   "cell_type": "code",
   "execution_count": 22,
   "metadata": {},
   "outputs": [
    {
     "data": {
      "text/html": [
       "<div>\n",
       "<style scoped>\n",
       "    .dataframe tbody tr th:only-of-type {\n",
       "        vertical-align: middle;\n",
       "    }\n",
       "\n",
       "    .dataframe tbody tr th {\n",
       "        vertical-align: top;\n",
       "    }\n",
       "\n",
       "    .dataframe thead th {\n",
       "        text-align: right;\n",
       "    }\n",
       "</style>\n",
       "<table border=\"1\" class=\"dataframe\">\n",
       "  <thead>\n",
       "    <tr style=\"text-align: right;\">\n",
       "      <th></th>\n",
       "      <th>city</th>\n",
       "      <th>year</th>\n",
       "      <th>pop</th>\n",
       "    </tr>\n",
       "  </thead>\n",
       "  <tbody>\n",
       "    <tr>\n",
       "      <th>1</th>\n",
       "      <td>shanghai</td>\n",
       "      <td>2017</td>\n",
       "      <td>1.7</td>\n",
       "    </tr>\n",
       "  </tbody>\n",
       "</table>\n",
       "</div>"
      ],
      "text/plain": [
       "       city  year  pop\n",
       "1  shanghai  2017  1.7"
      ]
     },
     "execution_count": 22,
     "metadata": {},
     "output_type": "execute_result"
    }
   ],
   "source": [
    "frame.loc[[1]]"
   ]
  },
  {
   "cell_type": "code",
   "execution_count": 23,
   "metadata": {},
   "outputs": [
    {
     "data": {
      "text/html": [
       "<div>\n",
       "<style scoped>\n",
       "    .dataframe tbody tr th:only-of-type {\n",
       "        vertical-align: middle;\n",
       "    }\n",
       "\n",
       "    .dataframe tbody tr th {\n",
       "        vertical-align: top;\n",
       "    }\n",
       "\n",
       "    .dataframe thead th {\n",
       "        text-align: right;\n",
       "    }\n",
       "</style>\n",
       "<table border=\"1\" class=\"dataframe\">\n",
       "  <thead>\n",
       "    <tr style=\"text-align: right;\">\n",
       "      <th></th>\n",
       "      <th>city</th>\n",
       "      <th>year</th>\n",
       "      <th>pop</th>\n",
       "    </tr>\n",
       "  </thead>\n",
       "  <tbody>\n",
       "    <tr>\n",
       "      <th>1</th>\n",
       "      <td>shanghai</td>\n",
       "      <td>2017</td>\n",
       "      <td>1.7</td>\n",
       "    </tr>\n",
       "  </tbody>\n",
       "</table>\n",
       "</div>"
      ],
      "text/plain": [
       "       city  year  pop\n",
       "1  shanghai  2017  1.7"
      ]
     },
     "execution_count": 23,
     "metadata": {},
     "output_type": "execute_result"
    }
   ],
   "source": [
    "frame.loc[1:1]"
   ]
  },
  {
   "cell_type": "code",
   "execution_count": 25,
   "metadata": {},
   "outputs": [
    {
     "name": "stdout",
     "output_type": "stream",
     "text": [
      "Day2.ipynb                    readme.txt\r\n",
      "Day2_Example.ipynb            writeme.txt\r\n",
      "Day3.ipynb                    学习成绩.xlsx\r\n",
      "Day4.ipynb                    年龄对照表.csv\r\n",
      "day01.py                      年龄对照表.xlsx\r\n",
      "helloWorld.ipynb              修改后的学习成绩.xlsx\r\n",
      "mymode.py\r\n"
     ]
    }
   ],
   "source": [
    "!ls "
   ]
  },
  {
   "cell_type": "code",
   "execution_count": 26,
   "metadata": {},
   "outputs": [],
   "source": [
    "# \n",
    "student_data = pd.read_excel('学习成绩.xlsx')"
   ]
  },
  {
   "cell_type": "code",
   "execution_count": 30,
   "metadata": {},
   "outputs": [
    {
     "data": {
      "text/html": [
       "<div>\n",
       "<style scoped>\n",
       "    .dataframe tbody tr th:only-of-type {\n",
       "        vertical-align: middle;\n",
       "    }\n",
       "\n",
       "    .dataframe tbody tr th {\n",
       "        vertical-align: top;\n",
       "    }\n",
       "\n",
       "    .dataframe thead th {\n",
       "        text-align: right;\n",
       "    }\n",
       "</style>\n",
       "<table border=\"1\" class=\"dataframe\">\n",
       "  <thead>\n",
       "    <tr style=\"text-align: right;\">\n",
       "      <th></th>\n",
       "      <th>学号</th>\n",
       "      <th>姓名</th>\n",
       "      <th>性别</th>\n",
       "      <th>英语</th>\n",
       "      <th>体育</th>\n",
       "      <th>军训</th>\n",
       "      <th>数学</th>\n",
       "      <th>语文</th>\n",
       "    </tr>\n",
       "  </thead>\n",
       "  <tbody>\n",
       "    <tr>\n",
       "      <th>0</th>\n",
       "      <td>0</td>\n",
       "      <td>陈龙</td>\n",
       "      <td>男</td>\n",
       "      <td>76</td>\n",
       "      <td>79</td>\n",
       "      <td>77</td>\n",
       "      <td>40</td>\n",
       "      <td>63.0</td>\n",
       "    </tr>\n",
       "    <tr>\n",
       "      <th>1</th>\n",
       "      <td>1</td>\n",
       "      <td>周怡</td>\n",
       "      <td>女</td>\n",
       "      <td>81</td>\n",
       "      <td>87</td>\n",
       "      <td>64</td>\n",
       "      <td>75</td>\n",
       "      <td>82.0</td>\n",
       "    </tr>\n",
       "    <tr>\n",
       "      <th>2</th>\n",
       "      <td>2</td>\n",
       "      <td>张波</td>\n",
       "      <td>男</td>\n",
       "      <td>62</td>\n",
       "      <td>91</td>\n",
       "      <td>92</td>\n",
       "      <td>76</td>\n",
       "      <td>61.0</td>\n",
       "    </tr>\n",
       "    <tr>\n",
       "      <th>3</th>\n",
       "      <td>3</td>\n",
       "      <td>李华</td>\n",
       "      <td>女</td>\n",
       "      <td>93</td>\n",
       "      <td>88</td>\n",
       "      <td>75</td>\n",
       "      <td>79</td>\n",
       "      <td>81.0</td>\n",
       "    </tr>\n",
       "    <tr>\n",
       "      <th>4</th>\n",
       "      <td>4</td>\n",
       "      <td>于浩</td>\n",
       "      <td>男</td>\n",
       "      <td>91</td>\n",
       "      <td>89</td>\n",
       "      <td>89</td>\n",
       "      <td>92</td>\n",
       "      <td>77.0</td>\n",
       "    </tr>\n",
       "    <tr>\n",
       "      <th>5</th>\n",
       "      <td>5</td>\n",
       "      <td>赵宇</td>\n",
       "      <td>男</td>\n",
       "      <td>作弊</td>\n",
       "      <td>86</td>\n",
       "      <td>72</td>\n",
       "      <td>47</td>\n",
       "      <td>53.0</td>\n",
       "    </tr>\n",
       "    <tr>\n",
       "      <th>6</th>\n",
       "      <td>6</td>\n",
       "      <td>王慧</td>\n",
       "      <td>女</td>\n",
       "      <td>82</td>\n",
       "      <td>87</td>\n",
       "      <td>92</td>\n",
       "      <td>91</td>\n",
       "      <td>88.0</td>\n",
       "    </tr>\n",
       "    <tr>\n",
       "      <th>7</th>\n",
       "      <td>7</td>\n",
       "      <td>李晓亮</td>\n",
       "      <td>男</td>\n",
       "      <td>81</td>\n",
       "      <td>92</td>\n",
       "      <td>93</td>\n",
       "      <td>85</td>\n",
       "      <td>NaN</td>\n",
       "    </tr>\n",
       "    <tr>\n",
       "      <th>8</th>\n",
       "      <td>6</td>\n",
       "      <td>王慧</td>\n",
       "      <td>女</td>\n",
       "      <td>82</td>\n",
       "      <td>87</td>\n",
       "      <td>92</td>\n",
       "      <td>91</td>\n",
       "      <td>88.0</td>\n",
       "    </tr>\n",
       "    <tr>\n",
       "      <th>9</th>\n",
       "      <td>9</td>\n",
       "      <td>郭昊</td>\n",
       "      <td>男</td>\n",
       "      <td>91</td>\n",
       "      <td>92</td>\n",
       "      <td>76</td>\n",
       "      <td>88</td>\n",
       "      <td>57.0</td>\n",
       "    </tr>\n",
       "    <tr>\n",
       "      <th>10</th>\n",
       "      <td>0</td>\n",
       "      <td>陈龙</td>\n",
       "      <td>男</td>\n",
       "      <td>76</td>\n",
       "      <td>79</td>\n",
       "      <td>77</td>\n",
       "      <td>40</td>\n",
       "      <td>63.0</td>\n",
       "    </tr>\n",
       "  </tbody>\n",
       "</table>\n",
       "</div>"
      ],
      "text/plain": [
       "    学号   姓名 性别  英语  体育  军训  数学    语文\n",
       "0    0   陈龙  男  76  79  77  40  63.0\n",
       "1    1   周怡  女  81  87  64  75  82.0\n",
       "2    2   张波  男  62  91  92  76  61.0\n",
       "3    3   李华  女  93  88  75  79  81.0\n",
       "4    4   于浩  男  91  89  89  92  77.0\n",
       "5    5   赵宇  男  作弊  86  72  47  53.0\n",
       "6    6   王慧  女  82  87  92  91  88.0\n",
       "7    7  李晓亮  男  81  92  93  85   NaN\n",
       "8    6   王慧  女  82  87  92  91  88.0\n",
       "9    9   郭昊  男  91  92  76  88  57.0\n",
       "10   0   陈龙  男  76  79  77  40  63.0"
      ]
     },
     "execution_count": 30,
     "metadata": {},
     "output_type": "execute_result"
    }
   ],
   "source": [
    "student_data"
   ]
  },
  {
   "cell_type": "code",
   "execution_count": 31,
   "metadata": {},
   "outputs": [
    {
     "data": {
      "text/html": [
       "<div>\n",
       "<style scoped>\n",
       "    .dataframe tbody tr th:only-of-type {\n",
       "        vertical-align: middle;\n",
       "    }\n",
       "\n",
       "    .dataframe tbody tr th {\n",
       "        vertical-align: top;\n",
       "    }\n",
       "\n",
       "    .dataframe thead th {\n",
       "        text-align: right;\n",
       "    }\n",
       "</style>\n",
       "<table border=\"1\" class=\"dataframe\">\n",
       "  <thead>\n",
       "    <tr style=\"text-align: right;\">\n",
       "      <th></th>\n",
       "      <th>学号</th>\n",
       "      <th>体育</th>\n",
       "      <th>军训</th>\n",
       "      <th>数学</th>\n",
       "      <th>语文</th>\n",
       "    </tr>\n",
       "  </thead>\n",
       "  <tbody>\n",
       "    <tr>\n",
       "      <th>count</th>\n",
       "      <td>11.000000</td>\n",
       "      <td>11.000000</td>\n",
       "      <td>11.000000</td>\n",
       "      <td>11.000000</td>\n",
       "      <td>10.00000</td>\n",
       "    </tr>\n",
       "    <tr>\n",
       "      <th>mean</th>\n",
       "      <td>3.909091</td>\n",
       "      <td>87.000000</td>\n",
       "      <td>81.727273</td>\n",
       "      <td>73.090909</td>\n",
       "      <td>71.30000</td>\n",
       "    </tr>\n",
       "    <tr>\n",
       "      <th>std</th>\n",
       "      <td>2.981763</td>\n",
       "      <td>4.472136</td>\n",
       "      <td>10.139930</td>\n",
       "      <td>20.690358</td>\n",
       "      <td>13.25854</td>\n",
       "    </tr>\n",
       "    <tr>\n",
       "      <th>min</th>\n",
       "      <td>0.000000</td>\n",
       "      <td>79.000000</td>\n",
       "      <td>64.000000</td>\n",
       "      <td>40.000000</td>\n",
       "      <td>53.00000</td>\n",
       "    </tr>\n",
       "    <tr>\n",
       "      <th>25%</th>\n",
       "      <td>1.500000</td>\n",
       "      <td>86.500000</td>\n",
       "      <td>75.500000</td>\n",
       "      <td>61.000000</td>\n",
       "      <td>61.50000</td>\n",
       "    </tr>\n",
       "    <tr>\n",
       "      <th>50%</th>\n",
       "      <td>4.000000</td>\n",
       "      <td>87.000000</td>\n",
       "      <td>77.000000</td>\n",
       "      <td>79.000000</td>\n",
       "      <td>70.00000</td>\n",
       "    </tr>\n",
       "    <tr>\n",
       "      <th>75%</th>\n",
       "      <td>6.000000</td>\n",
       "      <td>90.000000</td>\n",
       "      <td>92.000000</td>\n",
       "      <td>89.500000</td>\n",
       "      <td>81.75000</td>\n",
       "    </tr>\n",
       "    <tr>\n",
       "      <th>max</th>\n",
       "      <td>9.000000</td>\n",
       "      <td>92.000000</td>\n",
       "      <td>93.000000</td>\n",
       "      <td>92.000000</td>\n",
       "      <td>88.00000</td>\n",
       "    </tr>\n",
       "  </tbody>\n",
       "</table>\n",
       "</div>"
      ],
      "text/plain": [
       "              学号         体育         军训         数学        语文\n",
       "count  11.000000  11.000000  11.000000  11.000000  10.00000\n",
       "mean    3.909091  87.000000  81.727273  73.090909  71.30000\n",
       "std     2.981763   4.472136  10.139930  20.690358  13.25854\n",
       "min     0.000000  79.000000  64.000000  40.000000  53.00000\n",
       "25%     1.500000  86.500000  75.500000  61.000000  61.50000\n",
       "50%     4.000000  87.000000  77.000000  79.000000  70.00000\n",
       "75%     6.000000  90.000000  92.000000  89.500000  81.75000\n",
       "max     9.000000  92.000000  93.000000  92.000000  88.00000"
      ]
     },
     "execution_count": 31,
     "metadata": {},
     "output_type": "execute_result"
    }
   ],
   "source": [
    "student_data.describe()"
   ]
  },
  {
   "cell_type": "code",
   "execution_count": 32,
   "metadata": {},
   "outputs": [
    {
     "data": {
      "text/plain": [
       "0     False\n",
       "1     False\n",
       "2     False\n",
       "3     False\n",
       "4     False\n",
       "5     False\n",
       "6     False\n",
       "7     False\n",
       "8      True\n",
       "9     False\n",
       "10     True\n",
       "dtype: bool"
      ]
     },
     "execution_count": 32,
     "metadata": {},
     "output_type": "execute_result"
    }
   ],
   "source": [
    "student_data.duplicated()"
   ]
  },
  {
   "cell_type": "code",
   "execution_count": 33,
   "metadata": {},
   "outputs": [
    {
     "data": {
      "text/plain": [
       "0     False\n",
       "1     False\n",
       "2     False\n",
       "3     False\n",
       "4     False\n",
       "5     False\n",
       "6     False\n",
       "7     False\n",
       "8      True\n",
       "9     False\n",
       "10     True\n",
       "Name: 学号, dtype: bool"
      ]
     },
     "execution_count": 33,
     "metadata": {},
     "output_type": "execute_result"
    }
   ],
   "source": [
    "student_data['学号'].duplicated()"
   ]
  },
  {
   "cell_type": "code",
   "execution_count": 34,
   "metadata": {},
   "outputs": [],
   "source": [
    "student_data1 = student_data.drop_duplicates()"
   ]
  },
  {
   "cell_type": "code",
   "execution_count": 35,
   "metadata": {},
   "outputs": [
    {
     "data": {
      "text/html": [
       "<div>\n",
       "<style scoped>\n",
       "    .dataframe tbody tr th:only-of-type {\n",
       "        vertical-align: middle;\n",
       "    }\n",
       "\n",
       "    .dataframe tbody tr th {\n",
       "        vertical-align: top;\n",
       "    }\n",
       "\n",
       "    .dataframe thead th {\n",
       "        text-align: right;\n",
       "    }\n",
       "</style>\n",
       "<table border=\"1\" class=\"dataframe\">\n",
       "  <thead>\n",
       "    <tr style=\"text-align: right;\">\n",
       "      <th></th>\n",
       "      <th>学号</th>\n",
       "      <th>姓名</th>\n",
       "      <th>性别</th>\n",
       "      <th>英语</th>\n",
       "      <th>体育</th>\n",
       "      <th>军训</th>\n",
       "      <th>数学</th>\n",
       "      <th>语文</th>\n",
       "    </tr>\n",
       "  </thead>\n",
       "  <tbody>\n",
       "    <tr>\n",
       "      <th>0</th>\n",
       "      <td>0</td>\n",
       "      <td>陈龙</td>\n",
       "      <td>男</td>\n",
       "      <td>76</td>\n",
       "      <td>79</td>\n",
       "      <td>77</td>\n",
       "      <td>40</td>\n",
       "      <td>63.0</td>\n",
       "    </tr>\n",
       "    <tr>\n",
       "      <th>1</th>\n",
       "      <td>1</td>\n",
       "      <td>周怡</td>\n",
       "      <td>女</td>\n",
       "      <td>81</td>\n",
       "      <td>87</td>\n",
       "      <td>64</td>\n",
       "      <td>75</td>\n",
       "      <td>82.0</td>\n",
       "    </tr>\n",
       "    <tr>\n",
       "      <th>2</th>\n",
       "      <td>2</td>\n",
       "      <td>张波</td>\n",
       "      <td>男</td>\n",
       "      <td>62</td>\n",
       "      <td>91</td>\n",
       "      <td>92</td>\n",
       "      <td>76</td>\n",
       "      <td>61.0</td>\n",
       "    </tr>\n",
       "    <tr>\n",
       "      <th>3</th>\n",
       "      <td>3</td>\n",
       "      <td>李华</td>\n",
       "      <td>女</td>\n",
       "      <td>93</td>\n",
       "      <td>88</td>\n",
       "      <td>75</td>\n",
       "      <td>79</td>\n",
       "      <td>81.0</td>\n",
       "    </tr>\n",
       "    <tr>\n",
       "      <th>4</th>\n",
       "      <td>4</td>\n",
       "      <td>于浩</td>\n",
       "      <td>男</td>\n",
       "      <td>91</td>\n",
       "      <td>89</td>\n",
       "      <td>89</td>\n",
       "      <td>92</td>\n",
       "      <td>77.0</td>\n",
       "    </tr>\n",
       "    <tr>\n",
       "      <th>5</th>\n",
       "      <td>5</td>\n",
       "      <td>赵宇</td>\n",
       "      <td>男</td>\n",
       "      <td>作弊</td>\n",
       "      <td>86</td>\n",
       "      <td>72</td>\n",
       "      <td>47</td>\n",
       "      <td>53.0</td>\n",
       "    </tr>\n",
       "    <tr>\n",
       "      <th>6</th>\n",
       "      <td>6</td>\n",
       "      <td>王慧</td>\n",
       "      <td>女</td>\n",
       "      <td>82</td>\n",
       "      <td>87</td>\n",
       "      <td>92</td>\n",
       "      <td>91</td>\n",
       "      <td>88.0</td>\n",
       "    </tr>\n",
       "    <tr>\n",
       "      <th>7</th>\n",
       "      <td>7</td>\n",
       "      <td>李晓亮</td>\n",
       "      <td>男</td>\n",
       "      <td>81</td>\n",
       "      <td>92</td>\n",
       "      <td>93</td>\n",
       "      <td>85</td>\n",
       "      <td>NaN</td>\n",
       "    </tr>\n",
       "    <tr>\n",
       "      <th>9</th>\n",
       "      <td>9</td>\n",
       "      <td>郭昊</td>\n",
       "      <td>男</td>\n",
       "      <td>91</td>\n",
       "      <td>92</td>\n",
       "      <td>76</td>\n",
       "      <td>88</td>\n",
       "      <td>57.0</td>\n",
       "    </tr>\n",
       "  </tbody>\n",
       "</table>\n",
       "</div>"
      ],
      "text/plain": [
       "   学号   姓名 性别  英语  体育  军训  数学    语文\n",
       "0   0   陈龙  男  76  79  77  40  63.0\n",
       "1   1   周怡  女  81  87  64  75  82.0\n",
       "2   2   张波  男  62  91  92  76  61.0\n",
       "3   3   李华  女  93  88  75  79  81.0\n",
       "4   4   于浩  男  91  89  89  92  77.0\n",
       "5   5   赵宇  男  作弊  86  72  47  53.0\n",
       "6   6   王慧  女  82  87  92  91  88.0\n",
       "7   7  李晓亮  男  81  92  93  85   NaN\n",
       "9   9   郭昊  男  91  92  76  88  57.0"
      ]
     },
     "execution_count": 35,
     "metadata": {},
     "output_type": "execute_result"
    }
   ],
   "source": [
    "student_data1"
   ]
  },
  {
   "cell_type": "code",
   "execution_count": 36,
   "metadata": {},
   "outputs": [],
   "source": [
    "student_data2=student_data1.replace(['作弊'],0)"
   ]
  },
  {
   "cell_type": "code",
   "execution_count": 37,
   "metadata": {},
   "outputs": [
    {
     "data": {
      "text/html": [
       "<div>\n",
       "<style scoped>\n",
       "    .dataframe tbody tr th:only-of-type {\n",
       "        vertical-align: middle;\n",
       "    }\n",
       "\n",
       "    .dataframe tbody tr th {\n",
       "        vertical-align: top;\n",
       "    }\n",
       "\n",
       "    .dataframe thead th {\n",
       "        text-align: right;\n",
       "    }\n",
       "</style>\n",
       "<table border=\"1\" class=\"dataframe\">\n",
       "  <thead>\n",
       "    <tr style=\"text-align: right;\">\n",
       "      <th></th>\n",
       "      <th>学号</th>\n",
       "      <th>姓名</th>\n",
       "      <th>性别</th>\n",
       "      <th>英语</th>\n",
       "      <th>体育</th>\n",
       "      <th>军训</th>\n",
       "      <th>数学</th>\n",
       "      <th>语文</th>\n",
       "    </tr>\n",
       "  </thead>\n",
       "  <tbody>\n",
       "    <tr>\n",
       "      <th>0</th>\n",
       "      <td>0</td>\n",
       "      <td>陈龙</td>\n",
       "      <td>男</td>\n",
       "      <td>76</td>\n",
       "      <td>79</td>\n",
       "      <td>77</td>\n",
       "      <td>40</td>\n",
       "      <td>63.0</td>\n",
       "    </tr>\n",
       "    <tr>\n",
       "      <th>1</th>\n",
       "      <td>1</td>\n",
       "      <td>周怡</td>\n",
       "      <td>女</td>\n",
       "      <td>81</td>\n",
       "      <td>87</td>\n",
       "      <td>64</td>\n",
       "      <td>75</td>\n",
       "      <td>82.0</td>\n",
       "    </tr>\n",
       "    <tr>\n",
       "      <th>2</th>\n",
       "      <td>2</td>\n",
       "      <td>张波</td>\n",
       "      <td>男</td>\n",
       "      <td>62</td>\n",
       "      <td>91</td>\n",
       "      <td>92</td>\n",
       "      <td>76</td>\n",
       "      <td>61.0</td>\n",
       "    </tr>\n",
       "    <tr>\n",
       "      <th>3</th>\n",
       "      <td>3</td>\n",
       "      <td>李华</td>\n",
       "      <td>女</td>\n",
       "      <td>93</td>\n",
       "      <td>88</td>\n",
       "      <td>75</td>\n",
       "      <td>79</td>\n",
       "      <td>81.0</td>\n",
       "    </tr>\n",
       "    <tr>\n",
       "      <th>4</th>\n",
       "      <td>4</td>\n",
       "      <td>于浩</td>\n",
       "      <td>男</td>\n",
       "      <td>91</td>\n",
       "      <td>89</td>\n",
       "      <td>89</td>\n",
       "      <td>92</td>\n",
       "      <td>77.0</td>\n",
       "    </tr>\n",
       "    <tr>\n",
       "      <th>5</th>\n",
       "      <td>5</td>\n",
       "      <td>赵宇</td>\n",
       "      <td>男</td>\n",
       "      <td>0</td>\n",
       "      <td>86</td>\n",
       "      <td>72</td>\n",
       "      <td>47</td>\n",
       "      <td>53.0</td>\n",
       "    </tr>\n",
       "    <tr>\n",
       "      <th>6</th>\n",
       "      <td>6</td>\n",
       "      <td>王慧</td>\n",
       "      <td>女</td>\n",
       "      <td>82</td>\n",
       "      <td>87</td>\n",
       "      <td>92</td>\n",
       "      <td>91</td>\n",
       "      <td>88.0</td>\n",
       "    </tr>\n",
       "    <tr>\n",
       "      <th>7</th>\n",
       "      <td>7</td>\n",
       "      <td>李晓亮</td>\n",
       "      <td>男</td>\n",
       "      <td>81</td>\n",
       "      <td>92</td>\n",
       "      <td>93</td>\n",
       "      <td>85</td>\n",
       "      <td>NaN</td>\n",
       "    </tr>\n",
       "    <tr>\n",
       "      <th>9</th>\n",
       "      <td>9</td>\n",
       "      <td>郭昊</td>\n",
       "      <td>男</td>\n",
       "      <td>91</td>\n",
       "      <td>92</td>\n",
       "      <td>76</td>\n",
       "      <td>88</td>\n",
       "      <td>57.0</td>\n",
       "    </tr>\n",
       "  </tbody>\n",
       "</table>\n",
       "</div>"
      ],
      "text/plain": [
       "   学号   姓名 性别  英语  体育  军训  数学    语文\n",
       "0   0   陈龙  男  76  79  77  40  63.0\n",
       "1   1   周怡  女  81  87  64  75  82.0\n",
       "2   2   张波  男  62  91  92  76  61.0\n",
       "3   3   李华  女  93  88  75  79  81.0\n",
       "4   4   于浩  男  91  89  89  92  77.0\n",
       "5   5   赵宇  男   0  86  72  47  53.0\n",
       "6   6   王慧  女  82  87  92  91  88.0\n",
       "7   7  李晓亮  男  81  92  93  85   NaN\n",
       "9   9   郭昊  男  91  92  76  88  57.0"
      ]
     },
     "execution_count": 37,
     "metadata": {},
     "output_type": "execute_result"
    }
   ],
   "source": [
    "student_data2"
   ]
  },
  {
   "cell_type": "code",
   "execution_count": 38,
   "metadata": {},
   "outputs": [],
   "source": [
    "student_data3 = student_data2.fillna(student_data2['语文'].mean())"
   ]
  },
  {
   "cell_type": "code",
   "execution_count": 39,
   "metadata": {},
   "outputs": [
    {
     "data": {
      "text/html": [
       "<div>\n",
       "<style scoped>\n",
       "    .dataframe tbody tr th:only-of-type {\n",
       "        vertical-align: middle;\n",
       "    }\n",
       "\n",
       "    .dataframe tbody tr th {\n",
       "        vertical-align: top;\n",
       "    }\n",
       "\n",
       "    .dataframe thead th {\n",
       "        text-align: right;\n",
       "    }\n",
       "</style>\n",
       "<table border=\"1\" class=\"dataframe\">\n",
       "  <thead>\n",
       "    <tr style=\"text-align: right;\">\n",
       "      <th></th>\n",
       "      <th>学号</th>\n",
       "      <th>姓名</th>\n",
       "      <th>性别</th>\n",
       "      <th>英语</th>\n",
       "      <th>体育</th>\n",
       "      <th>军训</th>\n",
       "      <th>数学</th>\n",
       "      <th>语文</th>\n",
       "    </tr>\n",
       "  </thead>\n",
       "  <tbody>\n",
       "    <tr>\n",
       "      <th>0</th>\n",
       "      <td>0</td>\n",
       "      <td>陈龙</td>\n",
       "      <td>男</td>\n",
       "      <td>76</td>\n",
       "      <td>79</td>\n",
       "      <td>77</td>\n",
       "      <td>40</td>\n",
       "      <td>63.00</td>\n",
       "    </tr>\n",
       "    <tr>\n",
       "      <th>1</th>\n",
       "      <td>1</td>\n",
       "      <td>周怡</td>\n",
       "      <td>女</td>\n",
       "      <td>81</td>\n",
       "      <td>87</td>\n",
       "      <td>64</td>\n",
       "      <td>75</td>\n",
       "      <td>82.00</td>\n",
       "    </tr>\n",
       "    <tr>\n",
       "      <th>2</th>\n",
       "      <td>2</td>\n",
       "      <td>张波</td>\n",
       "      <td>男</td>\n",
       "      <td>62</td>\n",
       "      <td>91</td>\n",
       "      <td>92</td>\n",
       "      <td>76</td>\n",
       "      <td>61.00</td>\n",
       "    </tr>\n",
       "    <tr>\n",
       "      <th>3</th>\n",
       "      <td>3</td>\n",
       "      <td>李华</td>\n",
       "      <td>女</td>\n",
       "      <td>93</td>\n",
       "      <td>88</td>\n",
       "      <td>75</td>\n",
       "      <td>79</td>\n",
       "      <td>81.00</td>\n",
       "    </tr>\n",
       "    <tr>\n",
       "      <th>4</th>\n",
       "      <td>4</td>\n",
       "      <td>于浩</td>\n",
       "      <td>男</td>\n",
       "      <td>91</td>\n",
       "      <td>89</td>\n",
       "      <td>89</td>\n",
       "      <td>92</td>\n",
       "      <td>77.00</td>\n",
       "    </tr>\n",
       "    <tr>\n",
       "      <th>5</th>\n",
       "      <td>5</td>\n",
       "      <td>赵宇</td>\n",
       "      <td>男</td>\n",
       "      <td>0</td>\n",
       "      <td>86</td>\n",
       "      <td>72</td>\n",
       "      <td>47</td>\n",
       "      <td>53.00</td>\n",
       "    </tr>\n",
       "    <tr>\n",
       "      <th>6</th>\n",
       "      <td>6</td>\n",
       "      <td>王慧</td>\n",
       "      <td>女</td>\n",
       "      <td>82</td>\n",
       "      <td>87</td>\n",
       "      <td>92</td>\n",
       "      <td>91</td>\n",
       "      <td>88.00</td>\n",
       "    </tr>\n",
       "    <tr>\n",
       "      <th>7</th>\n",
       "      <td>7</td>\n",
       "      <td>李晓亮</td>\n",
       "      <td>男</td>\n",
       "      <td>81</td>\n",
       "      <td>92</td>\n",
       "      <td>93</td>\n",
       "      <td>85</td>\n",
       "      <td>70.25</td>\n",
       "    </tr>\n",
       "    <tr>\n",
       "      <th>9</th>\n",
       "      <td>9</td>\n",
       "      <td>郭昊</td>\n",
       "      <td>男</td>\n",
       "      <td>91</td>\n",
       "      <td>92</td>\n",
       "      <td>76</td>\n",
       "      <td>88</td>\n",
       "      <td>57.00</td>\n",
       "    </tr>\n",
       "  </tbody>\n",
       "</table>\n",
       "</div>"
      ],
      "text/plain": [
       "   学号   姓名 性别  英语  体育  军训  数学     语文\n",
       "0   0   陈龙  男  76  79  77  40  63.00\n",
       "1   1   周怡  女  81  87  64  75  82.00\n",
       "2   2   张波  男  62  91  92  76  61.00\n",
       "3   3   李华  女  93  88  75  79  81.00\n",
       "4   4   于浩  男  91  89  89  92  77.00\n",
       "5   5   赵宇  男   0  86  72  47  53.00\n",
       "6   6   王慧  女  82  87  92  91  88.00\n",
       "7   7  李晓亮  男  81  92  93  85  70.25\n",
       "9   9   郭昊  男  91  92  76  88  57.00"
      ]
     },
     "execution_count": 39,
     "metadata": {},
     "output_type": "execute_result"
    }
   ],
   "source": [
    "student_data3"
   ]
  },
  {
   "cell_type": "code",
   "execution_count": 40,
   "metadata": {},
   "outputs": [],
   "source": [
    "student_data3['GPA'] = (student_data3['英语'] + student_data3['体育'] + student_data3['军训'] + \\\n",
    "        student_data3['数学'] + student_data3['语文'])/5"
   ]
  },
  {
   "cell_type": "code",
   "execution_count": 41,
   "metadata": {},
   "outputs": [
    {
     "data": {
      "text/html": [
       "<div>\n",
       "<style scoped>\n",
       "    .dataframe tbody tr th:only-of-type {\n",
       "        vertical-align: middle;\n",
       "    }\n",
       "\n",
       "    .dataframe tbody tr th {\n",
       "        vertical-align: top;\n",
       "    }\n",
       "\n",
       "    .dataframe thead th {\n",
       "        text-align: right;\n",
       "    }\n",
       "</style>\n",
       "<table border=\"1\" class=\"dataframe\">\n",
       "  <thead>\n",
       "    <tr style=\"text-align: right;\">\n",
       "      <th></th>\n",
       "      <th>学号</th>\n",
       "      <th>姓名</th>\n",
       "      <th>性别</th>\n",
       "      <th>英语</th>\n",
       "      <th>体育</th>\n",
       "      <th>军训</th>\n",
       "      <th>数学</th>\n",
       "      <th>语文</th>\n",
       "      <th>GPA</th>\n",
       "    </tr>\n",
       "  </thead>\n",
       "  <tbody>\n",
       "    <tr>\n",
       "      <th>0</th>\n",
       "      <td>0</td>\n",
       "      <td>陈龙</td>\n",
       "      <td>男</td>\n",
       "      <td>76</td>\n",
       "      <td>79</td>\n",
       "      <td>77</td>\n",
       "      <td>40</td>\n",
       "      <td>63.00</td>\n",
       "      <td>67.00</td>\n",
       "    </tr>\n",
       "    <tr>\n",
       "      <th>1</th>\n",
       "      <td>1</td>\n",
       "      <td>周怡</td>\n",
       "      <td>女</td>\n",
       "      <td>81</td>\n",
       "      <td>87</td>\n",
       "      <td>64</td>\n",
       "      <td>75</td>\n",
       "      <td>82.00</td>\n",
       "      <td>77.80</td>\n",
       "    </tr>\n",
       "    <tr>\n",
       "      <th>2</th>\n",
       "      <td>2</td>\n",
       "      <td>张波</td>\n",
       "      <td>男</td>\n",
       "      <td>62</td>\n",
       "      <td>91</td>\n",
       "      <td>92</td>\n",
       "      <td>76</td>\n",
       "      <td>61.00</td>\n",
       "      <td>76.40</td>\n",
       "    </tr>\n",
       "    <tr>\n",
       "      <th>3</th>\n",
       "      <td>3</td>\n",
       "      <td>李华</td>\n",
       "      <td>女</td>\n",
       "      <td>93</td>\n",
       "      <td>88</td>\n",
       "      <td>75</td>\n",
       "      <td>79</td>\n",
       "      <td>81.00</td>\n",
       "      <td>83.20</td>\n",
       "    </tr>\n",
       "    <tr>\n",
       "      <th>4</th>\n",
       "      <td>4</td>\n",
       "      <td>于浩</td>\n",
       "      <td>男</td>\n",
       "      <td>91</td>\n",
       "      <td>89</td>\n",
       "      <td>89</td>\n",
       "      <td>92</td>\n",
       "      <td>77.00</td>\n",
       "      <td>87.60</td>\n",
       "    </tr>\n",
       "    <tr>\n",
       "      <th>5</th>\n",
       "      <td>5</td>\n",
       "      <td>赵宇</td>\n",
       "      <td>男</td>\n",
       "      <td>0</td>\n",
       "      <td>86</td>\n",
       "      <td>72</td>\n",
       "      <td>47</td>\n",
       "      <td>53.00</td>\n",
       "      <td>51.60</td>\n",
       "    </tr>\n",
       "    <tr>\n",
       "      <th>6</th>\n",
       "      <td>6</td>\n",
       "      <td>王慧</td>\n",
       "      <td>女</td>\n",
       "      <td>82</td>\n",
       "      <td>87</td>\n",
       "      <td>92</td>\n",
       "      <td>91</td>\n",
       "      <td>88.00</td>\n",
       "      <td>88.00</td>\n",
       "    </tr>\n",
       "    <tr>\n",
       "      <th>7</th>\n",
       "      <td>7</td>\n",
       "      <td>李晓亮</td>\n",
       "      <td>男</td>\n",
       "      <td>81</td>\n",
       "      <td>92</td>\n",
       "      <td>93</td>\n",
       "      <td>85</td>\n",
       "      <td>70.25</td>\n",
       "      <td>84.25</td>\n",
       "    </tr>\n",
       "    <tr>\n",
       "      <th>9</th>\n",
       "      <td>9</td>\n",
       "      <td>郭昊</td>\n",
       "      <td>男</td>\n",
       "      <td>91</td>\n",
       "      <td>92</td>\n",
       "      <td>76</td>\n",
       "      <td>88</td>\n",
       "      <td>57.00</td>\n",
       "      <td>80.80</td>\n",
       "    </tr>\n",
       "  </tbody>\n",
       "</table>\n",
       "</div>"
      ],
      "text/plain": [
       "   学号   姓名 性别  英语  体育  军训  数学     语文    GPA\n",
       "0   0   陈龙  男  76  79  77  40  63.00  67.00\n",
       "1   1   周怡  女  81  87  64  75  82.00  77.80\n",
       "2   2   张波  男  62  91  92  76  61.00  76.40\n",
       "3   3   李华  女  93  88  75  79  81.00  83.20\n",
       "4   4   于浩  男  91  89  89  92  77.00  87.60\n",
       "5   5   赵宇  男   0  86  72  47  53.00  51.60\n",
       "6   6   王慧  女  82  87  92  91  88.00  88.00\n",
       "7   7  李晓亮  男  81  92  93  85  70.25  84.25\n",
       "9   9   郭昊  男  91  92  76  88  57.00  80.80"
      ]
     },
     "execution_count": 41,
     "metadata": {},
     "output_type": "execute_result"
    }
   ],
   "source": [
    "student_data3"
   ]
  },
  {
   "cell_type": "code",
   "execution_count": 42,
   "metadata": {},
   "outputs": [
    {
     "data": {
      "text/plain": [
       "性别  语文   \n",
       "女   81.00    83.20\n",
       "    82.00    77.80\n",
       "    88.00    88.00\n",
       "男   53.00    51.60\n",
       "    57.00    80.80\n",
       "    61.00    76.40\n",
       "    63.00    67.00\n",
       "    70.25    84.25\n",
       "    77.00    87.60\n",
       "Name: GPA, dtype: float64"
      ]
     },
     "execution_count": 42,
     "metadata": {},
     "output_type": "execute_result"
    }
   ],
   "source": [
    "student_data3.groupby(['性别','语文'])['GPA'].mean()"
   ]
  },
  {
   "cell_type": "code",
   "execution_count": 43,
   "metadata": {},
   "outputs": [
    {
     "data": {
      "text/html": [
       "<div>\n",
       "<style scoped>\n",
       "    .dataframe tbody tr th:only-of-type {\n",
       "        vertical-align: middle;\n",
       "    }\n",
       "\n",
       "    .dataframe tbody tr th {\n",
       "        vertical-align: top;\n",
       "    }\n",
       "\n",
       "    .dataframe thead th {\n",
       "        text-align: right;\n",
       "    }\n",
       "</style>\n",
       "<table border=\"1\" class=\"dataframe\">\n",
       "  <thead>\n",
       "    <tr style=\"text-align: right;\">\n",
       "      <th></th>\n",
       "      <th>学号</th>\n",
       "      <th>姓名</th>\n",
       "      <th>性别</th>\n",
       "      <th>英语</th>\n",
       "      <th>体育</th>\n",
       "      <th>军训</th>\n",
       "      <th>数学</th>\n",
       "      <th>语文</th>\n",
       "      <th>GPA</th>\n",
       "    </tr>\n",
       "  </thead>\n",
       "  <tbody>\n",
       "    <tr>\n",
       "      <th>6</th>\n",
       "      <td>6</td>\n",
       "      <td>王慧</td>\n",
       "      <td>女</td>\n",
       "      <td>82</td>\n",
       "      <td>87</td>\n",
       "      <td>92</td>\n",
       "      <td>91</td>\n",
       "      <td>88.00</td>\n",
       "      <td>88.00</td>\n",
       "    </tr>\n",
       "    <tr>\n",
       "      <th>4</th>\n",
       "      <td>4</td>\n",
       "      <td>于浩</td>\n",
       "      <td>男</td>\n",
       "      <td>91</td>\n",
       "      <td>89</td>\n",
       "      <td>89</td>\n",
       "      <td>92</td>\n",
       "      <td>77.00</td>\n",
       "      <td>87.60</td>\n",
       "    </tr>\n",
       "    <tr>\n",
       "      <th>7</th>\n",
       "      <td>7</td>\n",
       "      <td>李晓亮</td>\n",
       "      <td>男</td>\n",
       "      <td>81</td>\n",
       "      <td>92</td>\n",
       "      <td>93</td>\n",
       "      <td>85</td>\n",
       "      <td>70.25</td>\n",
       "      <td>84.25</td>\n",
       "    </tr>\n",
       "    <tr>\n",
       "      <th>3</th>\n",
       "      <td>3</td>\n",
       "      <td>李华</td>\n",
       "      <td>女</td>\n",
       "      <td>93</td>\n",
       "      <td>88</td>\n",
       "      <td>75</td>\n",
       "      <td>79</td>\n",
       "      <td>81.00</td>\n",
       "      <td>83.20</td>\n",
       "    </tr>\n",
       "    <tr>\n",
       "      <th>9</th>\n",
       "      <td>9</td>\n",
       "      <td>郭昊</td>\n",
       "      <td>男</td>\n",
       "      <td>91</td>\n",
       "      <td>92</td>\n",
       "      <td>76</td>\n",
       "      <td>88</td>\n",
       "      <td>57.00</td>\n",
       "      <td>80.80</td>\n",
       "    </tr>\n",
       "    <tr>\n",
       "      <th>1</th>\n",
       "      <td>1</td>\n",
       "      <td>周怡</td>\n",
       "      <td>女</td>\n",
       "      <td>81</td>\n",
       "      <td>87</td>\n",
       "      <td>64</td>\n",
       "      <td>75</td>\n",
       "      <td>82.00</td>\n",
       "      <td>77.80</td>\n",
       "    </tr>\n",
       "    <tr>\n",
       "      <th>2</th>\n",
       "      <td>2</td>\n",
       "      <td>张波</td>\n",
       "      <td>男</td>\n",
       "      <td>62</td>\n",
       "      <td>91</td>\n",
       "      <td>92</td>\n",
       "      <td>76</td>\n",
       "      <td>61.00</td>\n",
       "      <td>76.40</td>\n",
       "    </tr>\n",
       "    <tr>\n",
       "      <th>0</th>\n",
       "      <td>0</td>\n",
       "      <td>陈龙</td>\n",
       "      <td>男</td>\n",
       "      <td>76</td>\n",
       "      <td>79</td>\n",
       "      <td>77</td>\n",
       "      <td>40</td>\n",
       "      <td>63.00</td>\n",
       "      <td>67.00</td>\n",
       "    </tr>\n",
       "    <tr>\n",
       "      <th>5</th>\n",
       "      <td>5</td>\n",
       "      <td>赵宇</td>\n",
       "      <td>男</td>\n",
       "      <td>0</td>\n",
       "      <td>86</td>\n",
       "      <td>72</td>\n",
       "      <td>47</td>\n",
       "      <td>53.00</td>\n",
       "      <td>51.60</td>\n",
       "    </tr>\n",
       "  </tbody>\n",
       "</table>\n",
       "</div>"
      ],
      "text/plain": [
       "   学号   姓名 性别  英语  体育  军训  数学     语文    GPA\n",
       "6   6   王慧  女  82  87  92  91  88.00  88.00\n",
       "4   4   于浩  男  91  89  89  92  77.00  87.60\n",
       "7   7  李晓亮  男  81  92  93  85  70.25  84.25\n",
       "3   3   李华  女  93  88  75  79  81.00  83.20\n",
       "9   9   郭昊  男  91  92  76  88  57.00  80.80\n",
       "1   1   周怡  女  81  87  64  75  82.00  77.80\n",
       "2   2   张波  男  62  91  92  76  61.00  76.40\n",
       "0   0   陈龙  男  76  79  77  40  63.00  67.00\n",
       "5   5   赵宇  男   0  86  72  47  53.00  51.60"
      ]
     },
     "execution_count": 43,
     "metadata": {},
     "output_type": "execute_result"
    }
   ],
   "source": [
    "student_data3.sort_values(by=['GPA'], ascending=False)"
   ]
  },
  {
   "cell_type": "code",
   "execution_count": null,
   "metadata": {},
   "outputs": [],
   "source": [
    "bins = [0,60,70,80,90,100]\n",
    "labels = ['不合格','差','中等','良好','优秀']\n",
    "student_data3['类别'] = pd.cut(student_data3['GPA'], bins, labels=labels)"
   ]
  },
  {
   "cell_type": "code",
   "execution_count": null,
   "metadata": {},
   "outputs": [],
   "source": [
    "student_data3"
   ]
  },
  {
   "cell_type": "code",
   "execution_count": null,
   "metadata": {},
   "outputs": [],
   "source": [
    "pd.write_excel(student_data3, '修改后的学习成绩')"
   ]
  }
 ],
 "metadata": {
  "kernelspec": {
   "display_name": "Python 3",
   "language": "python",
   "name": "python3"
  },
  "language_info": {
   "codemirror_mode": {
    "name": "ipython",
    "version": 3
   },
   "file_extension": ".py",
   "mimetype": "text/x-python",
   "name": "python",
   "nbconvert_exporter": "python",
   "pygments_lexer": "ipython3",
   "version": "3.6.8"
  }
 },
 "nbformat": 4,
 "nbformat_minor": 2
}
