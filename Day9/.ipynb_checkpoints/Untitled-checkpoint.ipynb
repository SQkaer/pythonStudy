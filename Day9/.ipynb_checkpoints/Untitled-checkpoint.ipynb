{
 "cells": [
  {
   "cell_type": "code",
   "execution_count": null,
   "metadata": {},
   "outputs": [],
   "source": [
    "''' 装饰器，类似于spring boost的AOP '''"
   ]
  },
  {
   "cell_type": "code",
   "execution_count": 1,
   "metadata": {},
   "outputs": [],
   "source": [
    "import functools"
   ]
  },
  {
   "cell_type": "code",
   "execution_count": 2,
   "metadata": {},
   "outputs": [],
   "source": [
    "def my_decorator(func):\n",
    "    @functools.wraps(func)\n",
    "    def wrapper(*args, **kwargs):\n",
    "        print('execute decorator!')\n",
    "        func(*args, **kwargs)\n",
    "        \n",
    "    return wrapper\n",
    "\n",
    "@my_decorator\n",
    "def greet(message):\n",
    "    print(message)"
   ]
  },
  {
   "cell_type": "code",
   "execution_count": 3,
   "metadata": {},
   "outputs": [
    {
     "name": "stdout",
     "output_type": "stream",
     "text": [
      "execute decorator!\n",
      "hello world\n"
     ]
    }
   ],
   "source": [
    "greet('hello world')"
   ]
  },
  {
   "cell_type": "code",
   "execution_count": 4,
   "metadata": {},
   "outputs": [],
   "source": [
    "# 装饰器用法实例"
   ]
  },
  {
   "cell_type": "code",
   "execution_count": null,
   "metadata": {},
   "outputs": [],
   "source": [
    "# 鉴权\n",
    "def authenticate(func):\n",
    "    @functools.wraps(func)\n",
    "    def wrapper(*args, **kwargs):\n",
    "        request = args[0]\n",
    "        if check_user_logged_in(request):\n",
    "            return func(*args, **kwargs)\n",
    "        else \n",
    "            raise Exception('Autentication failed')\n",
    "        \n",
    "    return wrapper\n",
    "\n",
    "@authenticate\n",
    "def post_comment(request, ...):\n",
    "    ..."
   ]
  },
  {
   "cell_type": "code",
   "execution_count": 5,
   "metadata": {},
   "outputs": [
    {
     "name": "stdout",
     "output_type": "stream",
     "text": [
      "calculate took 3.3530013752169907e-06 ms.\n"
     ]
    },
    {
     "data": {
      "text/plain": [
       "15"
      ]
     },
     "execution_count": 5,
     "metadata": {},
     "output_type": "execute_result"
    }
   ],
   "source": [
    "# log日志\n",
    "import time\n",
    "\n",
    "def log_execution_time(func):\n",
    "    @functools.wraps(func)\n",
    "    def wrapper(*args, **kwargs):\n",
    "        start_time = time.perf_counter()\n",
    "        res = func(*args, **kwargs)\n",
    "        end_time = time.perf_counter()\n",
    "        print('{} took {} ms.'.format(func.__name__, end_time - start_time))\n",
    "        return res\n",
    "    \n",
    "    return wrapper\n",
    "\n",
    "@log_execution_time\n",
    "def calculate(nums):\n",
    "    res = functools.reduce(lambda x,y: x+y, nums)\n",
    "    return res\n",
    "\n",
    "calculate([1,2,3,4,5])"
   ]
  },
  {
   "cell_type": "code",
   "execution_count": null,
   "metadata": {},
   "outputs": [],
   "source": [
    "# 检查输入合理性\n",
    "def validation_check(input):\n",
    "    @functools.wraps(func)\n",
    "    def wrapper(*args, **kwargs): \n",
    "        ... # 检查输入是否合法\n",
    "    \n",
    "@validation_check\n",
    "def neural_network_training(param1, param2, ...):\n",
    "    ..."
   ]
  },
  {
   "cell_type": "code",
   "execution_count": 7,
   "metadata": {},
   "outputs": [
    {
     "name": "stdout",
     "output_type": "stream",
     "text": [
      "num of calls is: 1\n",
      "hello world\n"
     ]
    }
   ],
   "source": [
    "# 类的装饰器\n",
    "# 类装饰器主要依赖于函数__call__()，每当你调用一个类的示例时，\n",
    "# 函数__call__()就会被执行一次。\n",
    "class Count:\n",
    "    def __init__(self, func):\n",
    "        self.func = func\n",
    "        self.num_calls = 0\n",
    "    \n",
    "    def __call__(self, *args, **kwargs):\n",
    "        self.num_calls += 1\n",
    "        print('num of calls is: {}'.format(self.num_calls)) \n",
    "        return self.func(*args, **kwargs)\n",
    "\n",
    "@Count\n",
    "def example(): \n",
    "    print(\"hello world\")\n",
    "    \n",
    "example()    "
   ]
  },
  {
   "cell_type": "code",
   "execution_count": null,
   "metadata": {},
   "outputs": [],
   "source": []
  }
 ],
 "metadata": {
  "kernelspec": {
   "display_name": "Python 3",
   "language": "python",
   "name": "python3"
  },
  "language_info": {
   "codemirror_mode": {
    "name": "ipython",
    "version": 3
   },
   "file_extension": ".py",
   "mimetype": "text/x-python",
   "name": "python",
   "nbconvert_exporter": "python",
   "pygments_lexer": "ipython3",
   "version": "3.6.8"
  }
 },
 "nbformat": 4,
 "nbformat_minor": 2
}
