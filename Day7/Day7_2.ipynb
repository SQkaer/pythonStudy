{
 "cells": [
  {
   "cell_type": "code",
   "execution_count": 1,
   "metadata": {},
   "outputs": [],
   "source": [
    "from pyecharts import options as opts\n",
    "from pyecharts.charts import Geo,Timeline\n",
    "from pyecharts.globals import ChartType, SymbolType"
   ]
  },
  {
   "cell_type": "code",
   "execution_count": 2,
   "metadata": {},
   "outputs": [],
   "source": [
    "# couple funcs\n",
    "def geo_full(virusDataFrame) -> Geo:\n",
    "    c = (\n",
    "        Geo()\n",
    "        .add_schema(\n",
    "            maptype=\"china\",\n",
    "            itemstyle_opts=opts.ItemStyleOpts(color='rgba(147, 235, 255, 0)', border_color='rgba(70, 140, 255, 1)',\n",
    "                                                             border_width=1.3),\n",
    "        )\n",
    "        .add(\n",
    "            \"确诊人数\",\n",
    "            [list(z) for z in zip(virusDataFrame['地区'], virusDataFrame['确诊'] )],\n",
    "            type_=ChartType.HEATMAP, #ChartType.EFFECT_SCATTER,\n",
    "        )\n",
    "        .add(\n",
    "            \"省会城市\",\n",
    "             [list(z) for z in zip(virusDataFrame['地区'], virusDataFrame['确诊'] )],\n",
    "            type_=ChartType.EFFECT_SCATTER,\n",
    "        )\n",
    "        .add(\n",
    "            \"感染趋势\",\n",
    "            [(\"武汉\", \"上海\"), (\"武汉\", \"北京\"), (\"武汉\", \"广州\"), (\"武汉\", \"重庆\"),\n",
    "            (\"武汉\", \"深圳\"), (\"武汉\", \"贵阳\"),(\"武汉\", \"银川\"),(\"武汉\", \"黑龙江\")],\n",
    "            type_=ChartType.LINES,\n",
    "            effect_opts=opts.EffectOpts(\n",
    "                symbol=SymbolType.ARROW, symbol_size=6, color=\"blue\"\n",
    "            ),\n",
    "            linestyle_opts=opts.LineStyleOpts(curve=0.2),\n",
    "        )\n",
    "        .set_series_opts(label_opts=opts.LabelOpts(is_show=False))\n",
    "        .set_global_opts(\n",
    "                visualmap_opts=opts.VisualMapOpts(),\n",
    "                title_opts=opts.TitleOpts(title=\"疫情实时统计\"),\n",
    "        )\n",
    "    )\n",
    "    return c"
   ]
  },
  {
   "cell_type": "code",
   "execution_count": 7,
   "metadata": {},
   "outputs": [
    {
     "name": "stdout",
     "output_type": "stream",
     "text": [
      "['.ipynb_checkpoints', '20.02.04.csv', '20.02.05.csv']\n"
     ]
    }
   ],
   "source": [
    "import os\n",
    "file_list = os.listdir('data')\n",
    "print(file_list)"
   ]
  },
  {
   "cell_type": "code",
   "execution_count": 6,
   "metadata": {},
   "outputs": [],
   "source": [
    "timeline = Timeline().add_schema(is_auto_play=True,)"
   ]
  },
  {
   "cell_type": "code",
   "execution_count": null,
   "metadata": {},
   "outputs": [],
   "source": [
    "import re\n",
    "import pandas as pd\n",
    "\n",
    "for filename in file_list:\n",
    "    if re.search('csv', filename):\n",
    "        file = os.path.join('data', filename)\n",
    "        virus_data = pd.read_csv(file)\n",
    "        date_time_index = re.search(u\"\\d{2}.\\d{2}.\\d{2}\", filename)\n",
    "        date_time = filename[date_time_index.span()[0] : date_time_index.span()[1]]\n",
    "        timeline.add(geo_full(virus_data), date_time)\n",
    "\n",
    "\n",
    "timeline.render('virus_timemap.html')"
   ]
  }
 ],
 "metadata": {
  "kernelspec": {
   "display_name": "Python 3",
   "language": "python",
   "name": "python3"
  },
  "language_info": {
   "codemirror_mode": {
    "name": "ipython",
    "version": 3
   },
   "file_extension": ".py",
   "mimetype": "text/x-python",
   "name": "python",
   "nbconvert_exporter": "python",
   "pygments_lexer": "ipython3",
   "version": "3.6.8"
  }
 },
 "nbformat": 4,
 "nbformat_minor": 2
}
