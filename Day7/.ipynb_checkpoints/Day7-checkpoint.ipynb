{
 "cells": [
  {
   "cell_type": "code",
   "execution_count": 1,
   "metadata": {},
   "outputs": [],
   "source": [
    "from pyecharts.charts import Bar"
   ]
  },
  {
   "cell_type": "code",
   "execution_count": 2,
   "metadata": {},
   "outputs": [
    {
     "data": {
      "text/plain": [
       "'/Users/qiangsong/PythonLearn/python_day_day_up/pythonStudy/Day7/mycharts.html'"
      ]
     },
     "execution_count": 2,
     "metadata": {},
     "output_type": "execute_result"
    }
   ],
   "source": [
    "bar = Bar()\n",
    "bar.add_xaxis([\"衬衫\", \"羊毛衫\", \"雪纺衫\", \"裤子\", \"高跟鞋\", \"袜子\"])\n",
    "bar.add_yaxis(\"商家A\", [5, 20, 36, 10, 75, 90])\n",
    "\n",
    "# render 会生成本地 HTML 文件，默认会在当前目录生成 render.html 文件\n",
    "# 也可以传入路径参数，如 bar.render(\"mycharts.html\")\n",
    "bar.render(\"mycharts.html\")"
   ]
  },
  {
   "cell_type": "code",
   "execution_count": 3,
   "metadata": {},
   "outputs": [
    {
     "data": {
      "text/plain": [
       "'/Users/qiangsong/PythonLearn/python_day_day_up/pythonStudy/Day7/mycharts.html'"
      ]
     },
     "execution_count": 3,
     "metadata": {},
     "output_type": "execute_result"
    }
   ],
   "source": [
    "# pyecharts 也支持类似js的链式调用\n",
    "from pyecharts.charts import Bar\n",
    "\n",
    "bar = (\n",
    "    Bar()\n",
    "    .add_xaxis([\"衬衫\", \"羊毛衫\", \"雪纺衫\", \"裤子\", \"高跟鞋\", \"袜子\"])\n",
    "    .add_yaxis(\"商家A\", [5, 20, 36, 10, 75, 90])\n",
    ")\n",
    "bar.render('mycharts.html')"
   ]
  },
  {
   "cell_type": "code",
   "execution_count": 4,
   "metadata": {},
   "outputs": [
    {
     "data": {
      "text/plain": [
       "'/Users/qiangsong/PythonLearn/python_day_day_up/pythonStudy/Day7/mycharts.html'"
      ]
     },
     "execution_count": 4,
     "metadata": {},
     "output_type": "execute_result"
    }
   ],
   "source": [
    "# V1 版本开始支持链式调用\n",
    "# 支持可配置项\n",
    "from pyecharts import options as opts\n",
    "bar = (\n",
    "    Bar()\n",
    "    .add_xaxis([\"衬衫\", \"羊毛衫\", \"雪纺衫\", \"裤子\", \"高跟鞋\", \"袜子\"])\n",
    "    .add_yaxis(\"商家A\", [5, 20, 36, 10, 75, 90])\n",
    "    .set_global_opts(title_opts=opts.TitleOpts(title=\"主标题\", subtitle=\"副标题\"))\n",
    "    # 或者直接使用字典参数\n",
    "    # .set_global_opts(title_opts={\"text\": \"主标题\", \"subtext\": \"副标题\"})\n",
    ")\n",
    "bar.render('mycharts.html')"
   ]
  },
  {
   "cell_type": "code",
   "execution_count": 5,
   "metadata": {},
   "outputs": [],
   "source": [
    "#渲染成图片文件\n",
    "from pyecharts.render import make_snapshot\n",
    "\n",
    "# 使用 snapshot-selenium 渲染图片\n",
    "from snapshot_selenium import snapshot\n",
    "\n",
    "make_snapshot(snapshot, bar.render('mycharts.html'), \"bar.png\")"
   ]
  },
  {
   "cell_type": "code",
   "execution_count": 6,
   "metadata": {},
   "outputs": [],
   "source": [
    "from pyecharts import options as opts\n",
    "from pyecharts.charts import Geo\n",
    "from pyecharts.globals import ChartType, SymbolType\n",
    "\n",
    "GeoCoordMap = {\n",
    "    '广东': 813,\n",
    "    '湖北': 13522,\n",
    "    '浙江': 829,\n",
    "    '河南': 675,\n",
    "    '湖南': 593,\n",
    "    '安徽': 480,\n",
    "    '江西': 476,\n",
    "    '重庆': 344,\n",
    "    '江苏': 308,\n",
    "    '四川': 282,\n",
    "    '山东': 275,\n",
    "    '北京': 228,\n",
    "    '上海': 219,\n",
    "    '福建': 194,\n",
    "    '黑龙江':155,\n",
    "    '陕西': 142,\n",
    "    '广西': 139,\n",
    "    '河北': 126,\n",
    "    '云南': 119,\n",
    "    '海南': 80,\n",
    "    '辽宁': 77,\n",
    "    '山西': 74,\n",
    "    '天津': 67,\n",
    "    '贵州': 58,\n",
    "    '甘肃': 55,\n",
    "    '吉林': 42,\n",
    "    '内蒙古': 35,\n",
    "    '宁夏': 34,\n",
    "    '新疆': 29,\n",
    "    '香港': 17,\n",
    "    '青海': 15,\n",
    "    '台湾': 11,\n",
    "    '澳门': 10,\n",
    "    '西藏': 1,\n",
    "}\n",
    "\n",
    "def geo_base() -> Geo:\n",
    "    c = (\n",
    "        Geo()\n",
    "        .add_schema(maptype=\"china\")\n",
    "        .add(\"geo\", [list(z) for z in zip(GeoCoordMap.keys(), GeoCoordMap.values())])\n",
    "        .set_series_opts(label_opts=opts.LabelOpts(is_show=False))\n",
    "        .set_global_opts(\n",
    "            visualmap_opts=opts.VisualMapOpts(is_piecewise=True),\n",
    "            title_opts=opts.TitleOpts(title=\"Geo-基本示例\"),\n",
    "        )\n",
    "    )\n",
    "    return c"
   ]
  },
  {
   "cell_type": "code",
   "execution_count": 7,
   "metadata": {},
   "outputs": [
    {
     "data": {
      "text/plain": [
       "'/Users/qiangsong/PythonLearn/python_day_day_up/pythonStudy/Day7/mycharts.html'"
      ]
     },
     "execution_count": 7,
     "metadata": {},
     "output_type": "execute_result"
    }
   ],
   "source": [
    "geo = geo_base()\n",
    "geo.render('mycharts.html')"
   ]
  },
  {
   "cell_type": "code",
   "execution_count": 107,
   "metadata": {},
   "outputs": [],
   "source": [
    "# couple funcs\n",
    "def geo_full(geoCoordMap) -> Geo:\n",
    "    c = (\n",
    "        Geo()\n",
    "        .add_schema(\n",
    "            maptype=\"china\",\n",
    "            itemstyle_opts=opts.ItemStyleOpts(color='rgba(147, 235, 255, 0)', border_color='rgba(70, 140, 255, 1)',\n",
    "                                                             border_width=1.3),\n",
    "        )\n",
    "        .add(\n",
    "            \"感染人数\",\n",
    "            [list(z) for z in zip(geoCoordMap.keys(), geoCoordMap.values())],\n",
    "            type_=ChartType.HEATMAP, #ChartType.EFFECT_SCATTER,\n",
    "        )\n",
    "        .add(\n",
    "            \"省会城市\",\n",
    "            [list(z) for z in zip(geoCoordMap.keys(), geoCoordMap.values())],\n",
    "            type_=ChartType.EFFECT_SCATTER,\n",
    "        )\n",
    "        .add(\n",
    "            \"感染趋势\",\n",
    "            [(\"武汉\", \"上海\"), (\"武汉\", \"北京\"), (\"武汉\", \"广州\"), (\"武汉\", \"重庆\"),\n",
    "            (\"武汉\", \"深圳\"), (\"武汉\", \"贵阳\"),(\"武汉\", \"银川\"),(\"武汉\", \"黑龙江\")],\n",
    "            type_=ChartType.LINES,\n",
    "            effect_opts=opts.EffectOpts(\n",
    "                symbol=SymbolType.ARROW, symbol_size=6, color=\"blue\"\n",
    "            ),\n",
    "            linestyle_opts=opts.LineStyleOpts(curve=0.2),\n",
    "        )\n",
    "        .set_series_opts(label_opts=opts.LabelOpts(is_show=False))\n",
    "        .set_global_opts(\n",
    "                visualmap_opts=opts.VisualMapOpts(is_piecewise=True),\n",
    "                title_opts=opts.TitleOpts(title=\"Geo-HeatMap\"),\n",
    "        )\n",
    "    )\n",
    "    return c"
   ]
  },
  {
   "cell_type": "code",
   "execution_count": 108,
   "metadata": {},
   "outputs": [
    {
     "data": {
      "text/plain": [
       "'/Users/qiangsong/PythonLearn/python_day_day_up/pythonStudy/Day7/mycharts1.html'"
      ]
     },
     "execution_count": 108,
     "metadata": {},
     "output_type": "execute_result"
    }
   ],
   "source": [
    "geo = geo_full(GeoCoordMap)\n",
    "geo.render('mycharts1.html')"
   ]
  },
  {
   "cell_type": "code",
   "execution_count": 109,
   "metadata": {},
   "outputs": [],
   "source": [
    "from pyecharts.charts import Timeline"
   ]
  },
  {
   "cell_type": "code",
   "execution_count": 116,
   "metadata": {},
   "outputs": [],
   "source": [
    "# Day1\n",
    "GeoCoordMap1 = {\n",
    "    '广东': 500,\n",
    "    '湖北': 10000,\n",
    "    '浙江': 400,\n",
    "    '河南': 300,\n",
    "    '湖南': 200,\n",
    "    '安徽': 100,\n",
    "    '江西': 20,\n",
    "    '重庆': 10,\n",
    "    '江苏': 1,\n",
    "    '四川': 1,\n",
    "    '山东': 1,\n",
    "    '北京': 1,\n",
    "    '上海': 1,\n",
    "    '福建': 1,\n",
    "    '黑龙江':1,\n",
    "    '陕西': 1,\n",
    "    '广西': 1,\n",
    "    '河北': 1,\n",
    "    '云南': 1,\n",
    "    '海南': 0,\n",
    "    '辽宁': 0,\n",
    "    '山西': 0,\n",
    "    '天津': 0,\n",
    "    '贵州': 0,\n",
    "    '甘肃': 0,\n",
    "    '吉林': 0,\n",
    "    '内蒙古': 0,\n",
    "    '宁夏': 0,\n",
    "    '新疆': 0,\n",
    "    '香港': 0,\n",
    "    '青海': 0,\n",
    "    '台湾': 0,\n",
    "    '澳门': 0,\n",
    "    '西藏': 0,\n",
    "}"
   ]
  },
  {
   "cell_type": "code",
   "execution_count": 120,
   "metadata": {},
   "outputs": [],
   "source": [
    "# Day2\n",
    "GeoCoordMap2 = {\n",
    "    '广东': 813,\n",
    "    '湖北': 13522,\n",
    "    '浙江': 829,\n",
    "    '河南': 675,\n",
    "    '湖南': 593,\n",
    "    '安徽': 480,\n",
    "    '江西': 476,\n",
    "    '重庆': 344,\n",
    "    '江苏': 308,\n",
    "    '四川': 282,\n",
    "    '山东': 275,\n",
    "    '北京': 228,\n",
    "    '上海': 219,\n",
    "    '福建': 194,\n",
    "    '黑龙江':155,\n",
    "    '陕西': 142,\n",
    "    '广西': 139,\n",
    "    '河北': 126,\n",
    "    '云南': 119,\n",
    "    '海南': 80,\n",
    "    '辽宁': 77,\n",
    "    '山西': 74,\n",
    "    '天津': 67,\n",
    "    '贵州': 58,\n",
    "    '甘肃': 55,\n",
    "    '吉林': 42,\n",
    "    '内蒙古': 35,\n",
    "    '宁夏': 34,\n",
    "    '新疆': 29,\n",
    "    '香港': 17,\n",
    "    '青海': 15,\n",
    "    '台湾': 11,\n",
    "    '澳门': 10,\n",
    "    '西藏': 1,\n",
    "}"
   ]
  },
  {
   "cell_type": "code",
   "execution_count": 121,
   "metadata": {},
   "outputs": [],
   "source": [
    "time1  = geo_full(GeoCoordMap1)\n",
    "time2 = geo_full(GeoCoordMap2)"
   ]
  },
  {
   "cell_type": "code",
   "execution_count": 122,
   "metadata": {},
   "outputs": [
    {
     "data": {
      "text/plain": [
       "'/Users/qiangsong/PythonLearn/python_day_day_up/pythonStudy/Day7/mycharts2.html'"
      ]
     },
     "execution_count": 122,
     "metadata": {},
     "output_type": "execute_result"
    }
   ],
   "source": [
    "timeline = Timeline().add_schema(is_auto_play=True,)\n",
    " \n",
    "timeline.add(time1, '2020-02-03')\n",
    "timeline.add(time2, '2020-02-04')\n",
    "timeline.render('mycharts2.html')"
   ]
  },
  {
   "cell_type": "code",
   "execution_count": null,
   "metadata": {},
   "outputs": [],
   "source": []
  }
 ],
 "metadata": {
  "kernelspec": {
   "display_name": "Python 3",
   "language": "python",
   "name": "python3"
  },
  "language_info": {
   "codemirror_mode": {
    "name": "ipython",
    "version": 3
   },
   "file_extension": ".py",
   "mimetype": "text/x-python",
   "name": "python",
   "nbconvert_exporter": "python",
   "pygments_lexer": "ipython3",
   "version": "3.6.8"
  }
 },
 "nbformat": 4,
 "nbformat_minor": 2
}
