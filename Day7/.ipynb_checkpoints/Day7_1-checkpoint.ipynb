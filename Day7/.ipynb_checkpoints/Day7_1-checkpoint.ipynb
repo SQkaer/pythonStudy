{
 "cells": [
  {
   "cell_type": "code",
   "execution_count": 1,
   "metadata": {},
   "outputs": [],
   "source": [
    "from selenium import webdriver\n",
    "from selenium.webdriver.common.by import By   #引入判断元素加载模块\n",
    "from selenium.webdriver.support.ui import WebDriverWait    #引入判断元素加载模块\n",
    "from selenium.webdriver.support import expected_conditions as EC    #引入判断元素加载模块\n",
    "from selenium.webdriver.chrome.options import Options\n",
    "import numpy as np\n",
    "import pandas as pd\n",
    "import datetime\n",
    "import time"
   ]
  },
  {
   "cell_type": "code",
   "execution_count": 2,
   "metadata": {},
   "outputs": [],
   "source": [
    "# 设置网站\n",
    "driver = webdriver.Chrome()#声明浏览器\n",
    "driver.get(\"https://voice.baidu.com/act/newpneumonia/newpneumonia/?from=osari_pc_3\") # 百度实时疫情大数据"
   ]
  },
  {
   "cell_type": "code",
   "execution_count": 3,
   "metadata": {},
   "outputs": [],
   "source": [
    "fresh_date = driver.find_element_by_class_name('Common_1-1-103_2X5CGD')"
   ]
  },
  {
   "cell_type": "code",
   "execution_count": 5,
   "metadata": {},
   "outputs": [
    {
     "data": {
      "text/plain": [
       "'国内疫情\\n数据更新至 2020.02.05 10:09'"
      ]
     },
     "execution_count": 5,
     "metadata": {},
     "output_type": "execute_result"
    }
   ],
   "source": [
    "fresh_date.text"
   ]
  },
  {
   "cell_type": "code",
   "execution_count": 7,
   "metadata": {},
   "outputs": [],
   "source": [
    "import re"
   ]
  },
  {
   "cell_type": "code",
   "execution_count": 15,
   "metadata": {},
   "outputs": [],
   "source": [
    "date_time_index = re.search(u\"\\d{2}.\\d{2}.\\d{2}\",fresh_date.text)\n",
    "date_time = fresh_date.text[date_time_index.span()[0] : date_time_index.span()[1]]"
   ]
  },
  {
   "cell_type": "code",
   "execution_count": 16,
   "metadata": {},
   "outputs": [
    {
     "data": {
      "text/plain": [
       "'20.02.05'"
      ]
     },
     "execution_count": 16,
     "metadata": {},
     "output_type": "execute_result"
    }
   ],
   "source": [
    "# 疫情实时日期\n",
    "date_time"
   ]
  },
  {
   "cell_type": "code",
   "execution_count": 20,
   "metadata": {},
   "outputs": [
    {
     "name": "stdout",
     "output_type": "stream",
     "text": [
      "['地区', '确诊', '治愈', '死亡']\n"
     ]
    }
   ],
   "source": [
    "# 获取表头信息\n",
    "table_list = driver.find_element_by_class_name('VirusTable_1-1-103_38pQEh').find_elements_by_tag_name('tr')\n",
    "table_head = []\n",
    "#--------------------第一次遍历-----------------------\n",
    "for tr in table_list:\n",
    "    table_th = tr.find_elements_by_tag_name('th')\n",
    "    for col in table_th:\n",
    "        table_head.append(col.text)\n",
    "\n",
    "print(table_head)"
   ]
  },
  {
   "cell_type": "code",
   "execution_count": 37,
   "metadata": {},
   "outputs": [],
   "source": [
    "# 获取表格内容\n",
    "table_content=[]\n",
    "table_content_list = driver.find_element_by_class_name('VirusTable_1-1-103_38pQEh').\\\n",
    "find_element_by_tag_name('tbody').find_elements_by_tag_name('tr')\n",
    "\n",
    "for row in table_content_list:\n",
    "    each_row_content = re.split('[ \\n]', row.text) # 按空格或者换行符分割\n",
    "    table_content.append(each_row_content)"
   ]
  },
  {
   "cell_type": "code",
   "execution_count": 38,
   "metadata": {},
   "outputs": [
    {
     "data": {
      "text/plain": [
       "[['湖北', '16678', '520', '479'],\n",
       " ['浙江', '895', '63', '-'],\n",
       " ['广东', '870', '32', '-'],\n",
       " ['河南', '764', '41', '2'],\n",
       " ['湖南', '661', '35', '-'],\n",
       " ['江西', '548', '27', '-'],\n",
       " ['安徽', '530', '20', '-'],\n",
       " ['重庆', '366', '14', '2'],\n",
       " ['江苏', '341', '13', '-'],\n",
       " ['四川', '301', '23', '1'],\n",
       " ['山东', '298', '13', '-'],\n",
       " ['上海', '233', '12', '1'],\n",
       " ['北京', '228', '23', '1'],\n",
       " ['福建', '194', '7', '-'],\n",
       " ['黑龙江', '190', '4', '2'],\n",
       " ['广西', '150', '10', '-'],\n",
       " ['陕西', '142', '2', '-'],\n",
       " ['河北', '135', '4', '1'],\n",
       " ['云南', '122', '5', '-'],\n",
       " ['海南', '89', '5', '1'],\n",
       " ['山西', '81', '4', '-'],\n",
       " ['辽宁', '81', '2', '-'],\n",
       " ['天津', '67', '2', '-'],\n",
       " ['贵州', '64', '5', '-'],\n",
       " ['甘肃', '57', '4', '-'],\n",
       " ['吉林', '54', '1', '-'],\n",
       " ['内蒙古', '42', '1', '-'],\n",
       " ['宁夏', '34', '1', '-'],\n",
       " ['新疆', '32', '-', '-'],\n",
       " ['香港', '18', '-', '1'],\n",
       " ['青海', '17', '-', '-'],\n",
       " ['台湾', '11', '-', '-'],\n",
       " ['澳门', '10', '-', '-'],\n",
       " ['西藏', '1', '-', '-']]"
      ]
     },
     "execution_count": 38,
     "metadata": {},
     "output_type": "execute_result"
    }
   ],
   "source": [
    "table_content"
   ]
  },
  {
   "cell_type": "code",
   "execution_count": 41,
   "metadata": {},
   "outputs": [],
   "source": [
    "# 生成表格\n",
    "virus_data = pd.DataFrame(np.array(table_content), columns=table_head).replace('-',0) # 替换-为0"
   ]
  },
  {
   "cell_type": "code",
   "execution_count": 43,
   "metadata": {},
   "outputs": [],
   "source": [
    "# 退出窗口\n",
    "driver.quit()"
   ]
  },
  {
   "cell_type": "code",
   "execution_count": 42,
   "metadata": {},
   "outputs": [
    {
     "data": {
      "text/html": [
       "<div>\n",
       "<style scoped>\n",
       "    .dataframe tbody tr th:only-of-type {\n",
       "        vertical-align: middle;\n",
       "    }\n",
       "\n",
       "    .dataframe tbody tr th {\n",
       "        vertical-align: top;\n",
       "    }\n",
       "\n",
       "    .dataframe thead th {\n",
       "        text-align: right;\n",
       "    }\n",
       "</style>\n",
       "<table border=\"1\" class=\"dataframe\">\n",
       "  <thead>\n",
       "    <tr style=\"text-align: right;\">\n",
       "      <th></th>\n",
       "      <th>地区</th>\n",
       "      <th>确诊</th>\n",
       "      <th>治愈</th>\n",
       "      <th>死亡</th>\n",
       "    </tr>\n",
       "  </thead>\n",
       "  <tbody>\n",
       "    <tr>\n",
       "      <th>0</th>\n",
       "      <td>湖北</td>\n",
       "      <td>16678</td>\n",
       "      <td>520</td>\n",
       "      <td>479</td>\n",
       "    </tr>\n",
       "    <tr>\n",
       "      <th>1</th>\n",
       "      <td>浙江</td>\n",
       "      <td>895</td>\n",
       "      <td>63</td>\n",
       "      <td>0</td>\n",
       "    </tr>\n",
       "    <tr>\n",
       "      <th>2</th>\n",
       "      <td>广东</td>\n",
       "      <td>870</td>\n",
       "      <td>32</td>\n",
       "      <td>0</td>\n",
       "    </tr>\n",
       "    <tr>\n",
       "      <th>3</th>\n",
       "      <td>河南</td>\n",
       "      <td>764</td>\n",
       "      <td>41</td>\n",
       "      <td>2</td>\n",
       "    </tr>\n",
       "    <tr>\n",
       "      <th>4</th>\n",
       "      <td>湖南</td>\n",
       "      <td>661</td>\n",
       "      <td>35</td>\n",
       "      <td>0</td>\n",
       "    </tr>\n",
       "  </tbody>\n",
       "</table>\n",
       "</div>"
      ],
      "text/plain": [
       "   地区     确诊   治愈   死亡\n",
       "0  湖北  16678  520  479\n",
       "1  浙江    895   63    0\n",
       "2  广东    870   32    0\n",
       "3  河南    764   41    2\n",
       "4  湖南    661   35    0"
      ]
     },
     "execution_count": 42,
     "metadata": {},
     "output_type": "execute_result"
    }
   ],
   "source": [
    "virus_data.head(5)"
   ]
  },
  {
   "cell_type": "code",
   "execution_count": 50,
   "metadata": {},
   "outputs": [],
   "source": [
    "# 保存当天数据\n",
    "import os\n",
    "if not os.path.exists('data'):\n",
    "      os.makedirs('data')\n",
    "        \n",
    "virus_data.to_csv('data/'+date_time+'.csv')"
   ]
  }
 ],
 "metadata": {
  "kernelspec": {
   "display_name": "Python 3",
   "language": "python",
   "name": "python3"
  },
  "language_info": {
   "codemirror_mode": {
    "name": "ipython",
    "version": 3
   },
   "file_extension": ".py",
   "mimetype": "text/x-python",
   "name": "python",
   "nbconvert_exporter": "python",
   "pygments_lexer": "ipython3",
   "version": "3.6.8"
  }
 },
 "nbformat": 4,
 "nbformat_minor": 2
}
