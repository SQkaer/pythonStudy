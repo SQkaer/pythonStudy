{
 "cells": [
  {
   "cell_type": "code",
   "execution_count": 1,
   "metadata": {},
   "outputs": [],
   "source": [
    "from selenium import webdriver\n",
    "from selenium.webdriver.common.by import By   #引入判断元素加载模块\n",
    "from selenium.webdriver.support.ui import WebDriverWait    #引入判断元素加载模块\n",
    "from selenium.webdriver.support import expected_conditions as EC    #引入判断元素加载模块\n",
    "from selenium.webdriver.chrome.options import Options\n",
    "import numpy as np\n",
    "import pandas as pd\n",
    "import datetime\n",
    "import time"
   ]
  },
  {
   "cell_type": "code",
   "execution_count": 2,
   "metadata": {},
   "outputs": [],
   "source": [
    "# 设置网站\n",
    "driver = webdriver.Chrome()#声明浏览器\n",
    "driver.get(\"https://voice.baidu.com/act/newpneumonia/newpneumonia/?from=osari_pc_3\") # 百度实时疫情大数据"
   ]
  },
  {
   "cell_type": "code",
   "execution_count": 5,
   "metadata": {},
   "outputs": [],
   "source": [
    "fresh_date = driver.find_element_by_class_name('Virus_1-1-113_32Y_aO') # 代码经常变103-113"
   ]
  },
  {
   "cell_type": "code",
   "execution_count": 6,
   "metadata": {},
   "outputs": [
    {
     "data": {
      "text/plain": [
       "'更新至 2020.02.06 09:38\\n数据说明'"
      ]
     },
     "execution_count": 6,
     "metadata": {},
     "output_type": "execute_result"
    }
   ],
   "source": [
    "fresh_date.text"
   ]
  },
  {
   "cell_type": "code",
   "execution_count": 7,
   "metadata": {},
   "outputs": [],
   "source": [
    "import re"
   ]
  },
  {
   "cell_type": "code",
   "execution_count": 8,
   "metadata": {},
   "outputs": [],
   "source": [
    "date_time_index = re.search(u\"\\d{2}.\\d{2}.\\d{2}\",fresh_date.text)\n",
    "date_time = fresh_date.text[date_time_index.span()[0] : date_time_index.span()[1]]"
   ]
  },
  {
   "cell_type": "code",
   "execution_count": 9,
   "metadata": {},
   "outputs": [
    {
     "data": {
      "text/plain": [
       "'20.02.06'"
      ]
     },
     "execution_count": 9,
     "metadata": {},
     "output_type": "execute_result"
    }
   ],
   "source": [
    "# 疫情实时日期\n",
    "date_time"
   ]
  },
  {
   "cell_type": "code",
   "execution_count": 11,
   "metadata": {},
   "outputs": [
    {
     "name": "stdout",
     "output_type": "stream",
     "text": [
      "['地区', '确诊', '治愈', '死亡']\n"
     ]
    }
   ],
   "source": [
    "# 获取表头信息\n",
    "table_list = driver.find_element_by_class_name('VirusTable_1-1-113_38pQEh').find_elements_by_tag_name('tr')\n",
    "table_head = []\n",
    "#--------------------第一次遍历-----------------------\n",
    "for tr in table_list:\n",
    "    table_th = tr.find_elements_by_tag_name('th')\n",
    "    for col in table_th:\n",
    "        table_head.append(col.text)\n",
    "\n",
    "print(table_head)"
   ]
  },
  {
   "cell_type": "code",
   "execution_count": 13,
   "metadata": {},
   "outputs": [],
   "source": [
    "# 获取表格内容\n",
    "table_content=[]\n",
    "table_content_list = driver.find_element_by_class_name('VirusTable_1-1-113_38pQEh').\\\n",
    "find_element_by_tag_name('tbody').find_elements_by_tag_name('tr')\n",
    "\n",
    "for row in table_content_list:\n",
    "    each_row_content = re.split('[ \\n]', row.text) # 按空格或者换行符分割\n",
    "    table_content.append(each_row_content)"
   ]
  },
  {
   "cell_type": "code",
   "execution_count": 14,
   "metadata": {},
   "outputs": [
    {
     "data": {
      "text/plain": [
       "[['湖北', '19665', '633', '549'],\n",
       " ['浙江', '954', '81', '0'],\n",
       " ['广东', '944', '49', '0'],\n",
       " ['河南', '851', '54', '2'],\n",
       " ['湖南', '711', '56', '-'],\n",
       " ['江西', '600', '37', '-'],\n",
       " ['安徽', '591', '23', '-'],\n",
       " ['重庆', '389', '15', '2'],\n",
       " ['江苏', '373', '26', '-'],\n",
       " ['山东', '343', '18', '-'],\n",
       " ['四川', '321', '27', '1'],\n",
       " ['上海', '254', '15', '1'],\n",
       " ['北京', '253', '24', '1'],\n",
       " ['黑龙江', '227', '7', '3'],\n",
       " ['福建', '205', '11', '-'],\n",
       " ['广西', '168', '14', '-'],\n",
       " ['陕西', '165', '6', '-'],\n",
       " ['河北', '157', '7', '1'],\n",
       " ['云南', '128', '5', '-'],\n",
       " ['海南', '105', '5', '1'],\n",
       " ['山西', '90', '5', '-'],\n",
       " ['辽宁', '89', '4', '-'],\n",
       " ['贵州', '69', '6', '1'],\n",
       " ['天津', '69', '2', '1'],\n",
       " ['甘肃', '62', '6', '-'],\n",
       " ['吉林', '59', '2', '-'],\n",
       " ['内蒙古', '46', '4', '-'],\n",
       " ['宁夏', '40', '1', '-'],\n",
       " ['新疆', '36', '-', '-'],\n",
       " ['香港', '21', '-', '1'],\n",
       " ['青海', '18', '3', '-'],\n",
       " ['台湾', '11', '-', '-'],\n",
       " ['澳门', '10', '-', '-'],\n",
       " ['西藏', '1', '-', '-']]"
      ]
     },
     "execution_count": 14,
     "metadata": {},
     "output_type": "execute_result"
    }
   ],
   "source": [
    "table_content"
   ]
  },
  {
   "cell_type": "code",
   "execution_count": 15,
   "metadata": {},
   "outputs": [],
   "source": [
    "# 生成表格\n",
    "virus_data = pd.DataFrame(np.array(table_content), columns=table_head).replace('-',0) # 替换-为0"
   ]
  },
  {
   "cell_type": "code",
   "execution_count": 16,
   "metadata": {},
   "outputs": [],
   "source": [
    "# 退出窗口\n",
    "driver.quit()"
   ]
  },
  {
   "cell_type": "code",
   "execution_count": 17,
   "metadata": {},
   "outputs": [
    {
     "data": {
      "text/html": [
       "<div>\n",
       "<style scoped>\n",
       "    .dataframe tbody tr th:only-of-type {\n",
       "        vertical-align: middle;\n",
       "    }\n",
       "\n",
       "    .dataframe tbody tr th {\n",
       "        vertical-align: top;\n",
       "    }\n",
       "\n",
       "    .dataframe thead th {\n",
       "        text-align: right;\n",
       "    }\n",
       "</style>\n",
       "<table border=\"1\" class=\"dataframe\">\n",
       "  <thead>\n",
       "    <tr style=\"text-align: right;\">\n",
       "      <th></th>\n",
       "      <th>地区</th>\n",
       "      <th>确诊</th>\n",
       "      <th>治愈</th>\n",
       "      <th>死亡</th>\n",
       "    </tr>\n",
       "  </thead>\n",
       "  <tbody>\n",
       "    <tr>\n",
       "      <th>0</th>\n",
       "      <td>湖北</td>\n",
       "      <td>19665</td>\n",
       "      <td>633</td>\n",
       "      <td>549</td>\n",
       "    </tr>\n",
       "    <tr>\n",
       "      <th>1</th>\n",
       "      <td>浙江</td>\n",
       "      <td>954</td>\n",
       "      <td>81</td>\n",
       "      <td>0</td>\n",
       "    </tr>\n",
       "    <tr>\n",
       "      <th>2</th>\n",
       "      <td>广东</td>\n",
       "      <td>944</td>\n",
       "      <td>49</td>\n",
       "      <td>0</td>\n",
       "    </tr>\n",
       "    <tr>\n",
       "      <th>3</th>\n",
       "      <td>河南</td>\n",
       "      <td>851</td>\n",
       "      <td>54</td>\n",
       "      <td>2</td>\n",
       "    </tr>\n",
       "    <tr>\n",
       "      <th>4</th>\n",
       "      <td>湖南</td>\n",
       "      <td>711</td>\n",
       "      <td>56</td>\n",
       "      <td>0</td>\n",
       "    </tr>\n",
       "  </tbody>\n",
       "</table>\n",
       "</div>"
      ],
      "text/plain": [
       "   地区     确诊   治愈   死亡\n",
       "0  湖北  19665  633  549\n",
       "1  浙江    954   81    0\n",
       "2  广东    944   49    0\n",
       "3  河南    851   54    2\n",
       "4  湖南    711   56    0"
      ]
     },
     "execution_count": 17,
     "metadata": {},
     "output_type": "execute_result"
    }
   ],
   "source": [
    "virus_data.head(5)"
   ]
  },
  {
   "cell_type": "code",
   "execution_count": 18,
   "metadata": {},
   "outputs": [],
   "source": [
    "# 保存当天数据\n",
    "import os\n",
    "if not os.path.exists('data'):\n",
    "      os.makedirs('data')\n",
    "        \n",
    "virus_data.to_csv('data/'+date_time+'.csv')"
   ]
  },
  {
   "cell_type": "code",
   "execution_count": null,
   "metadata": {},
   "outputs": [],
   "source": []
  }
 ],
 "metadata": {
  "kernelspec": {
   "display_name": "Python 3",
   "language": "python",
   "name": "python3"
  },
  "language_info": {
   "codemirror_mode": {
    "name": "ipython",
    "version": 3
   },
   "file_extension": ".py",
   "mimetype": "text/x-python",
   "name": "python",
   "nbconvert_exporter": "python",
   "pygments_lexer": "ipython3",
   "version": "3.6.8"
  }
 },
 "nbformat": 4,
 "nbformat_minor": 2
}
