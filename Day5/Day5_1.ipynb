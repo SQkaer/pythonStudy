{
 "cells": [
  {
   "cell_type": "code",
   "execution_count": 1,
   "metadata": {},
   "outputs": [
    {
     "data": {
      "text/plain": [
       "' Day 5_1 '"
      ]
     },
     "execution_count": 1,
     "metadata": {},
     "output_type": "execute_result"
    }
   ],
   "source": [
    "''' Day 5_1 '''"
   ]
  },
  {
   "cell_type": "code",
   "execution_count": 167,
   "metadata": {},
   "outputs": [],
   "source": [
    "import docx\n",
    "import pandas as pd"
   ]
  },
  {
   "cell_type": "code",
   "execution_count": 168,
   "metadata": {},
   "outputs": [],
   "source": [
    "def read_docx(filename):\n",
    "    document=docx.Document(filename)\n",
    "    #解析文本\n",
    "    paragraphs = []\n",
    "    for p in document.paragraphs:\n",
    "        paragraphs.append(p.text)\n",
    "    #解析表格\n",
    "    tables = []\n",
    "    for table in document.tables:\n",
    "        df = [['' for i in range(len(table.columns))] for j in range(len(table.rows))]\n",
    "        for i, row in enumerate(table.rows):\n",
    "            for j, cell in enumerate(row.cells):\n",
    "                if cell.text:\n",
    "                    df[i][j] = cell.text\n",
    "    # 首行可以设置成列名                \n",
    "    # tables.append(pd.DataFrame(df).rename(columns=tables[0].loc[0]).drop(0))\n",
    "    tables.append(pd.DataFrame(df))\n",
    "    return paragraphs, tables"
   ]
  },
  {
   "cell_type": "code",
   "execution_count": 169,
   "metadata": {},
   "outputs": [],
   "source": [
    "paragraphs, tables = read_docx('demo.docx')"
   ]
  },
  {
   "cell_type": "code",
   "execution_count": 170,
   "metadata": {},
   "outputs": [
    {
     "data": {
      "text/plain": [
       "['Document Title',\n",
       " 'A plain paragraph having some bold and some italic.',\n",
       " 'Heading, level 1',\n",
       " 'first item in unordered list',\n",
       " 'first item in ordered list',\n",
       " '',\n",
       " '\\n']"
      ]
     },
     "execution_count": 170,
     "metadata": {},
     "output_type": "execute_result"
    }
   ],
   "source": [
    "paragraphs"
   ]
  },
  {
   "cell_type": "code",
   "execution_count": 171,
   "metadata": {},
   "outputs": [
    {
     "data": {
      "text/html": [
       "<div>\n",
       "<style scoped>\n",
       "    .dataframe tbody tr th:only-of-type {\n",
       "        vertical-align: middle;\n",
       "    }\n",
       "\n",
       "    .dataframe tbody tr th {\n",
       "        vertical-align: top;\n",
       "    }\n",
       "\n",
       "    .dataframe thead th {\n",
       "        text-align: right;\n",
       "    }\n",
       "</style>\n",
       "<table border=\"1\" class=\"dataframe\">\n",
       "  <thead>\n",
       "    <tr style=\"text-align: right;\">\n",
       "      <th></th>\n",
       "      <th>0</th>\n",
       "      <th>1</th>\n",
       "      <th>2</th>\n",
       "    </tr>\n",
       "  </thead>\n",
       "  <tbody>\n",
       "    <tr>\n",
       "      <th>0</th>\n",
       "      <td>Qty</td>\n",
       "      <td>Id</td>\n",
       "      <td>Desc</td>\n",
       "    </tr>\n",
       "    <tr>\n",
       "      <th>1</th>\n",
       "      <td>3</td>\n",
       "      <td>101</td>\n",
       "      <td>Spam</td>\n",
       "    </tr>\n",
       "    <tr>\n",
       "      <th>2</th>\n",
       "      <td>7</td>\n",
       "      <td>422</td>\n",
       "      <td>Eggs</td>\n",
       "    </tr>\n",
       "    <tr>\n",
       "      <th>3</th>\n",
       "      <td>4</td>\n",
       "      <td>631</td>\n",
       "      <td>Spam, spam, eggs, and spam</td>\n",
       "    </tr>\n",
       "  </tbody>\n",
       "</table>\n",
       "</div>"
      ],
      "text/plain": [
       "     0    1                           2\n",
       "0  Qty   Id                        Desc\n",
       "1    3  101                        Spam\n",
       "2    7  422                        Eggs\n",
       "3    4  631  Spam, spam, eggs, and spam"
      ]
     },
     "execution_count": 171,
     "metadata": {},
     "output_type": "execute_result"
    }
   ],
   "source": [
    "tables[0]"
   ]
  },
  {
   "cell_type": "code",
   "execution_count": 175,
   "metadata": {},
   "outputs": [],
   "source": [
    "df=tables[0].rename(columns=tables[0].loc[0]).drop(0)"
   ]
  },
  {
   "cell_type": "code",
   "execution_count": 176,
   "metadata": {},
   "outputs": [
    {
     "data": {
      "text/html": [
       "<div>\n",
       "<style scoped>\n",
       "    .dataframe tbody tr th:only-of-type {\n",
       "        vertical-align: middle;\n",
       "    }\n",
       "\n",
       "    .dataframe tbody tr th {\n",
       "        vertical-align: top;\n",
       "    }\n",
       "\n",
       "    .dataframe thead th {\n",
       "        text-align: right;\n",
       "    }\n",
       "</style>\n",
       "<table border=\"1\" class=\"dataframe\">\n",
       "  <thead>\n",
       "    <tr style=\"text-align: right;\">\n",
       "      <th></th>\n",
       "      <th>Qty</th>\n",
       "      <th>Id</th>\n",
       "      <th>Desc</th>\n",
       "    </tr>\n",
       "  </thead>\n",
       "  <tbody>\n",
       "    <tr>\n",
       "      <th>1</th>\n",
       "      <td>3</td>\n",
       "      <td>101</td>\n",
       "      <td>Spam</td>\n",
       "    </tr>\n",
       "    <tr>\n",
       "      <th>2</th>\n",
       "      <td>7</td>\n",
       "      <td>422</td>\n",
       "      <td>Eggs</td>\n",
       "    </tr>\n",
       "    <tr>\n",
       "      <th>3</th>\n",
       "      <td>4</td>\n",
       "      <td>631</td>\n",
       "      <td>Spam, spam, eggs, and spam</td>\n",
       "    </tr>\n",
       "  </tbody>\n",
       "</table>\n",
       "</div>"
      ],
      "text/plain": [
       "  Qty   Id                        Desc\n",
       "1   3  101                        Spam\n",
       "2   7  422                        Eggs\n",
       "3   4  631  Spam, spam, eggs, and spam"
      ]
     },
     "execution_count": 176,
     "metadata": {},
     "output_type": "execute_result"
    }
   ],
   "source": [
    "df"
   ]
  },
  {
   "cell_type": "code",
   "execution_count": 165,
   "metadata": {},
   "outputs": [],
   "source": [
    "def read_imgs(filename, save_path):\n",
    "    \"\"\"get all of the images in a paragraph \n",
    "    :param par: a paragraph object from docx\n",
    "    :return: a list of r:embed \n",
    "    \"\"\"\n",
    "    import xml.etree.cElementTree as ET\n",
    "    import re\n",
    "    \n",
    "    document = docx.Document(filename)\n",
    "    proxy=[]\n",
    "    for p in document.paragraphs:\n",
    "        proxy.append(p._element.xml)\n",
    "    \n",
    "    rIds = []\n",
    "    namespace = {\n",
    "             'a':\"http://schemas.openxmlformats.org/drawingml/2006/main\", \\\n",
    "             'r':\"http://schemas.openxmlformats.org/officeDocument/2006/relationships\", \\\n",
    "             'wp':\"http://schemas.openxmlformats.org/drawingml/2006/wordprocessingDrawing\"}\n",
    "    \n",
    "    for p in proxy:\n",
    "        root = ET.fromstring(p)\n",
    "        inlines = root.findall('.//wp:inline',namespace)\n",
    "        if inlines is not None:\n",
    "            for inline in inlines:\n",
    "                imgs = inline.findall('.//a:blip', namespace)\n",
    "                for img in imgs: \n",
    "                    id = img.attrib['{{{0}}}embed'.format(namespace['r'])]\n",
    "                    rIds.append(id)\n",
    "    \n",
    "    # 保存图片\n",
    "    save_img_i = 1\n",
    "    for rid in rIds:\n",
    "        f=open(save_path+\"img%d.jpg\" % save_img_i,'wb')\n",
    "        f.write(document.part.related_parts[rid].blob)\n",
    "        f.close()\n",
    "        save_img_i+=1\n",
    "    \n",
    "    return rIds"
   ]
  },
  {
   "cell_type": "code",
   "execution_count": 166,
   "metadata": {},
   "outputs": [],
   "source": [
    "rIds = read_imgs(filename = 'demo(复件).docx', save_path = 'img/')"
   ]
  },
  {
   "cell_type": "code",
   "execution_count": null,
   "metadata": {},
   "outputs": [],
   "source": []
  }
 ],
 "metadata": {
  "kernelspec": {
   "display_name": "Python 3",
   "language": "python",
   "name": "python3"
  },
  "language_info": {
   "codemirror_mode": {
    "name": "ipython",
    "version": 3
   },
   "file_extension": ".py",
   "mimetype": "text/x-python",
   "name": "python",
   "nbconvert_exporter": "python",
   "pygments_lexer": "ipython3",
   "version": "3.7.0"
  }
 },
 "nbformat": 4,
 "nbformat_minor": 2
}
