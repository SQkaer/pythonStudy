{
 "cells": [
  {
   "cell_type": "code",
   "execution_count": 1,
   "metadata": {},
   "outputs": [
    {
     "data": {
      "text/plain": [
       "' 面向对象的编程 '"
      ]
     },
     "execution_count": 1,
     "metadata": {},
     "output_type": "execute_result"
    }
   ],
   "source": [
    "''' 面向对象的编程 '''"
   ]
  },
  {
   "cell_type": "code",
   "execution_count": null,
   "metadata": {},
   "outputs": [],
   "source": [
    "# base\n",
    "class Document():\n",
    "    def __init__(self, title, author, context):\n",
    "        print('init function called')\n",
    "        self.title = title\n",
    "        self.author = author\n",
    "        self.__context = context # __开头的属性为私有属性\n",
    "    \n",
    "    def get_context_length(self):\n",
    "        return len(self.__context)\n",
    "    \n",
    "    def intercept_context(self, length):\n",
    "        self.__context = self.__context[:length]"
   ]
  },
  {
   "cell_type": "code",
   "execution_count": 2,
   "metadata": {},
   "outputs": [],
   "source": [
    "# full\n",
    "class Document():\n",
    "    WELCOME_STR = 'Welcome! The context for this book is {}.'\n",
    "    \n",
    "    def __init__(self, title, author, context):\n",
    "        print('init functiion called')\n",
    "        self.title = title\n",
    "        self.author = author\n",
    "        self.__context = context\n",
    "    \n",
    "    # 类函数，使用cls\n",
    "    @classmethod\n",
    "    def create_empty_book(cls, title, author): \n",
    "        return cls(title = title, author = author, context = 'nothing')\n",
    "    \n",
    "    # 成员函数\n",
    "    def get_context_length(self):\n",
    "        return len(self.__context)\n",
    "\n",
    "    # 静态函数，可支持公用\n",
    "    @staticmethod\n",
    "    def get_welcome(context):\n",
    "        return Document.WELCOME_STR.format(context)\n"
   ]
  },
  {
   "cell_type": "code",
   "execution_count": 3,
   "metadata": {},
   "outputs": [
    {
     "name": "stdout",
     "output_type": "stream",
     "text": [
      "init functiion called\n",
      "7\n",
      "Welcome! The context for this book is indeed nothing.\n"
     ]
    }
   ],
   "source": [
    "empty_book = Document.create_empty_book('ABC','QSONG')\n",
    "print(empty_book.get_context_length())\n",
    "print(empty_book.get_welcome('indeed nothing'))"
   ]
  },
  {
   "cell_type": "code",
   "execution_count": 4,
   "metadata": {},
   "outputs": [],
   "source": [
    "# 虚基类\n",
    "from abc import ABCMeta, abstractmethod"
   ]
  },
  {
   "cell_type": "code",
   "execution_count": 5,
   "metadata": {},
   "outputs": [],
   "source": [
    "class Entity(metaclass = ABCMeta):\n",
    "    def __init__(self, object_type):\n",
    "        self.object_type = object_type\n",
    "        \n",
    "    @abstractmethod\n",
    "    def get_title(self):\n",
    "        pass\n",
    "    \n",
    "    @abstractmethod\n",
    "    def set_title(self, title):\n",
    "        pass\n",
    "\n",
    "class Document(Entity):\n",
    "    def __init__(self, title, author, context):\n",
    "        super(Document, self).__init__('document')\n",
    "        self.title = title\n",
    "        self.author = author\n",
    "        self.__context = context\n",
    "    \n",
    "    def get_title(self):\n",
    "        return self.title\n",
    "    \n",
    "    def set_title(self, title):\n",
    "        self.title = title"
   ]
  },
  {
   "cell_type": "code",
   "execution_count": 6,
   "metadata": {},
   "outputs": [
    {
     "name": "stdout",
     "output_type": "stream",
     "text": [
      "ABC\n",
      "DEF\n"
     ]
    }
   ],
   "source": [
    "document = Document('ABC','QS','HAHA')\n",
    "print(document.get_title())\n",
    "document.set_title('DEF')\n",
    "print(document.get_title())"
   ]
  },
  {
   "cell_type": "code",
   "execution_count": null,
   "metadata": {},
   "outputs": [],
   "source": []
  }
 ],
 "metadata": {
  "kernelspec": {
   "display_name": "Python 3",
   "language": "python",
   "name": "python3"
  },
  "language_info": {
   "codemirror_mode": {
    "name": "ipython",
    "version": 3
   },
   "file_extension": ".py",
   "mimetype": "text/x-python",
   "name": "python",
   "nbconvert_exporter": "python",
   "pygments_lexer": "ipython3",
   "version": "3.6.8"
  }
 },
 "nbformat": 4,
 "nbformat_minor": 2
}
